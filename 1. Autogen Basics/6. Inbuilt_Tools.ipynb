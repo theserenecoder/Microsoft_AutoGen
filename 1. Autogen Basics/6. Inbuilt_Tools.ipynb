{
 "cells": [
  {
   "cell_type": "markdown",
   "id": "01b564cb",
   "metadata": {},
   "source": [
    "# Using Tools with AutogenAgents\n",
    "\n",
    "### Tools\n",
    "\n",
    "Tools are the special functions that let the agent act on some information or user query. Like getting the web, doing calculations, writing codes etc."
   ]
  },
  {
   "cell_type": "code",
   "execution_count": 2,
   "id": "e9979419",
   "metadata": {},
   "outputs": [],
   "source": [
    "from autogen_agentchat.agents import AssistantAgent\n",
    "from autogen_ext.models.openai import OpenAIChatCompletionClient\n",
    "from dotenv import load_dotenv\n",
    "load_dotenv()\n",
    "\n",
    "gpt4o_mini_model = OpenAIChatCompletionClient(model = 'gpt-4o-mini')"
   ]
  },
  {
   "cell_type": "code",
   "execution_count": 3,
   "id": "4d9b24da",
   "metadata": {},
   "outputs": [],
   "source": [
    "## creating a fucntion as a tool\n",
    "\n",
    "def get_weather(city:str) -> str:\n",
    "    '''\n",
    "    This fucntion fetches the weather for a given city.\n",
    "    For now this is a placeholder function and be replaced with an actual weather fetching logic like weather api\n",
    "    \n",
    "    Args:\n",
    "        city (str): city to check weather for.\n",
    "    \n",
    "    Returns:\n",
    "        str : weather information as a string\n",
    "    '''\n",
    "    \n",
    "    return f\"The weather of {city} is overcast with a high of 18C.\""
   ]
  },
  {
   "cell_type": "code",
   "execution_count": 4,
   "id": "7513d61d",
   "metadata": {},
   "outputs": [],
   "source": [
    "weather_agent = AssistantAgent(\n",
    "    name = 'weather_assistant',\n",
    "    model_client= gpt4o_mini_model,\n",
    "    system_message='You are a weather assistant. Use the get_weather tool when asked about the weather of a city',\n",
    "    tools=[get_weather]\n",
    ")"
   ]
  },
  {
   "cell_type": "code",
   "execution_count": 5,
   "id": "5988c3eb",
   "metadata": {},
   "outputs": [],
   "source": [
    "async def test_weather_tool(query):\n",
    "    result = await weather_agent.run(task=query)\n",
    "    return result.messages[-1].content\n",
    "    "
   ]
  },
  {
   "cell_type": "code",
   "execution_count": 6,
   "id": "c237bcb8",
   "metadata": {},
   "outputs": [
    {
     "data": {
      "text/plain": [
       "'The weather of Kelowna is overcast with a high of 18C.'"
      ]
     },
     "execution_count": 6,
     "metadata": {},
     "output_type": "execute_result"
    }
   ],
   "source": [
    "await test_weather_tool('What is the weather of Kelowna')"
   ]
  },
  {
   "cell_type": "code",
   "execution_count": null,
   "id": "1bfafb2c",
   "metadata": {},
   "outputs": [],
   "source": []
  }
 ],
 "metadata": {
  "kernelspec": {
   "display_name": "Python 3",
   "language": "python",
   "name": "python3"
  },
  "language_info": {
   "codemirror_mode": {
    "name": "ipython",
    "version": 3
   },
   "file_extension": ".py",
   "mimetype": "text/x-python",
   "name": "python",
   "nbconvert_exporter": "python",
   "pygments_lexer": "ipython3",
   "version": "3.12.11"
  }
 },
 "nbformat": 4,
 "nbformat_minor": 5
}
