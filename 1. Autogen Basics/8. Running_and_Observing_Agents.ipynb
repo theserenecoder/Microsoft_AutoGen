{
 "cells": [
  {
   "cell_type": "markdown",
   "id": "9dff8dcb",
   "metadata": {},
   "source": [
    "# Running and Observing Agents\n",
    "\n",
    "There are two methods which can be used to run the agents given a task:\n",
    "\n",
    "- **run()**: It runs the agent given a task as a string or a list of messages and return a `TaskResult`. This method is expected to be run with new message and not complete history.\n",
    "\n",
    "- **run_stream()**: Same as `run()` bu it returns an iterator of messages that subclasses `BaseChatMessage` or `BaseAgentEvent` followed by `TaskResult` as last message."
   ]
  },
  {
   "cell_type": "code",
   "execution_count": 1,
   "id": "efa46661",
   "metadata": {},
   "outputs": [],
   "source": [
    "from autogen_agentchat.agents import AssistantAgent\n",
    "from autogen_ext.models.openai import OpenAIChatCompletionClient\n",
    "from autogen_agentchat.messages import TextMessage\n",
    "from dotenv import load_dotenv\n",
    "import os\n",
    "\n",
    "load_dotenv()\n",
    "openai_api_key = os.getenv('OPENAI_API_KEY')\n",
    "openai_model_client = OpenAIChatCompletionClient(model='gpt-4o-mini')"
   ]
  },
  {
   "cell_type": "code",
   "execution_count": 2,
   "id": "e9e7401b",
   "metadata": {},
   "outputs": [],
   "source": [
    "async def web_search(query: str) -> str:\n",
    "    '''Find information on the web'''\n",
    "    \n",
    "    return 'The Labrador is a British breed of gun dog'"
   ]
  },
  {
   "cell_type": "code",
   "execution_count": 3,
   "id": "0aada67c",
   "metadata": {},
   "outputs": [],
   "source": [
    "agent = AssistantAgent(\n",
    "    name = 'assistant',\n",
    "    model_client=openai_model_client,\n",
    "    tools=[web_search],\n",
    "    system_message='Use tool to run task'\n",
    ")"
   ]
  },
  {
   "cell_type": "code",
   "execution_count": 5,
   "id": "8bd878fa",
   "metadata": {},
   "outputs": [
    {
     "name": "stdout",
     "output_type": "stream",
     "text": [
      "The Labrador is a British breed of gun dog\n"
     ]
    }
   ],
   "source": [
    "from autogen_agentchat.messages import TextMessage\n",
    "result = await agent.run(task=TextMessage(content='Find info about labrador', source='user'))\n",
    "print(result.messages[-1].content)"
   ]
  },
  {
   "cell_type": "code",
   "execution_count": 7,
   "id": "ce949594",
   "metadata": {},
   "outputs": [
    {
     "data": {
      "text/plain": [
       "[TextMessage(id='1c0ce59c-cdc7-41e0-9875-f06d3e6b6b3a', source='user', models_usage=None, metadata={}, created_at=datetime.datetime(2025, 7, 17, 7, 45, 38, 691246, tzinfo=datetime.timezone.utc), content='Find info about labrador', type='TextMessage'),\n",
       " ToolCallRequestEvent(id='c6ed181c-cb9e-45b2-969a-6b904e1d626b', source='assistant', models_usage=RequestUsage(prompt_tokens=62, completion_tokens=17), metadata={}, created_at=datetime.datetime(2025, 7, 17, 7, 45, 42, 738585, tzinfo=datetime.timezone.utc), content=[FunctionCall(id='call_JPTZOsdKAasN0T735P9oxozp', arguments='{\"query\":\"Labrador information\"}', name='web_search')], type='ToolCallRequestEvent'),\n",
       " ToolCallExecutionEvent(id='71d2ca09-ba81-4c27-9113-620bc47da49a', source='assistant', models_usage=None, metadata={}, created_at=datetime.datetime(2025, 7, 17, 7, 45, 42, 740585, tzinfo=datetime.timezone.utc), content=[FunctionExecutionResult(content='The Labrador is a British breed of gun dog', name='web_search', call_id='call_JPTZOsdKAasN0T735P9oxozp', is_error=False)], type='ToolCallExecutionEvent'),\n",
       " ToolCallSummaryMessage(id='02d2240f-fc6e-4f2f-98f8-65c42dc09d14', source='assistant', models_usage=None, metadata={}, created_at=datetime.datetime(2025, 7, 17, 7, 45, 42, 740585, tzinfo=datetime.timezone.utc), content='The Labrador is a British breed of gun dog', type='ToolCallSummaryMessage', tool_calls=[FunctionCall(id='call_JPTZOsdKAasN0T735P9oxozp', arguments='{\"query\":\"Labrador information\"}', name='web_search')], results=[FunctionExecutionResult(content='The Labrador is a British breed of gun dog', name='web_search', call_id='call_JPTZOsdKAasN0T735P9oxozp', is_error=False)])]"
      ]
     },
     "execution_count": 7,
     "metadata": {},
     "output_type": "execute_result"
    }
   ],
   "source": [
    "result.messages"
   ]
  },
  {
   "cell_type": "markdown",
   "id": "1c3b8f15",
   "metadata": {},
   "source": [
    "### on_messages()\n",
    "\n",
    "It is core method to run the agent and gets its response. It provides us with `inner_message`:tool call and `chat_message`: response of the assistant."
   ]
  },
  {
   "cell_type": "code",
   "execution_count": 11,
   "id": "d690a019",
   "metadata": {},
   "outputs": [
    {
     "name": "stdout",
     "output_type": "stream",
     "text": [
      "[ToolCallRequestEvent(id='ea697461-9187-4882-b349-5f4503ed7840', source='assistant', models_usage=RequestUsage(prompt_tokens=243, completion_tokens=19), metadata={}, created_at=datetime.datetime(2025, 7, 18, 5, 11, 2, 936668, tzinfo=datetime.timezone.utc), content=[FunctionCall(id='call_0lH1se0Xz4qIdxWjMHbWkJmd', arguments='{\"query\":\"Labrador dog breed information\"}', name='web_search')], type='ToolCallRequestEvent'), ToolCallExecutionEvent(id='6258c455-80b4-4a3b-b0ef-9fd1529fdb7a', source='assistant', models_usage=None, metadata={}, created_at=datetime.datetime(2025, 7, 18, 5, 11, 2, 936668, tzinfo=datetime.timezone.utc), content=[FunctionExecutionResult(content='The Labrador is a British breed of gun dog', name='web_search', call_id='call_0lH1se0Xz4qIdxWjMHbWkJmd', is_error=False)], type='ToolCallExecutionEvent')]\n",
      "\n",
      "\n",
      "\n",
      "id='1a521f13-39f2-4e4f-ab7e-2896489253ce' source='assistant' models_usage=None metadata={} created_at=datetime.datetime(2025, 7, 18, 5, 11, 2, 936668, tzinfo=datetime.timezone.utc) content='The Labrador is a British breed of gun dog' type='ToolCallSummaryMessage' tool_calls=[FunctionCall(id='call_0lH1se0Xz4qIdxWjMHbWkJmd', arguments='{\"query\":\"Labrador dog breed information\"}', name='web_search')] results=[FunctionExecutionResult(content='The Labrador is a British breed of gun dog', name='web_search', call_id='call_0lH1se0Xz4qIdxWjMHbWkJmd', is_error=False)]\n"
     ]
    }
   ],
   "source": [
    "from autogen_core import CancellationToken\n",
    "\n",
    "async def assistant_run():\n",
    "    response =await agent.on_messages(\n",
    "        messages=[TextMessage(content='Find info about labrador', source='user')],\n",
    "        cancellation_token=CancellationToken()\n",
    "    )\n",
    "    \n",
    "    print(response.inner_messages)\n",
    "    print(\"\\n\\n\")\n",
    "    print(response.chat_message)\n",
    "\n",
    "await assistant_run()"
   ]
  },
  {
   "cell_type": "markdown",
   "id": "70a7b65b",
   "metadata": {},
   "source": [
    "chat_message=\n",
    "    ToolCallSummaryMessage(\n",
    "        id='0690fa46-401a-4c84-80f2-dfe0adc4c180', \n",
    "        source='assistant', \n",
    "        models_usage=None, \n",
    "        metadata={}, \n",
    "        created_at=datetime.datetime(2025, 7, 18, 4, 58, 10, 774237, tzinfo=datetime.timezone.utc), \n",
    "        content='The Labrador is a British breed of gun dog\\nThe Labrador is a British breed of gun dog\\nThe Labrador is a British breed of gun dog', \n",
    "        type='ToolCallSummaryMessage', \n",
    "        tool_calls=[\n",
    "            FunctionCall(\n",
    "                id='call_YzzmYwuEOkff1nRR4Cy8r2AE', \n",
    "                arguments='{\"query\": \"Labrador breed information\"}', \n",
    "                name='web_search'), \n",
    "            FunctionCall(\n",
    "                id='call_DVPa5ZiubisIT5S6moQ6ngIV', \n",
    "                arguments='{\"query\": \"Labrador dog characteristics\"}', \n",
    "                name='web_search'), \n",
    "            FunctionCall(\n",
    "                id='call_GC6tLL9xiP1rqlTClmVMZcaE', \n",
    "                arguments='{\"query\": \"Labrador health and care\"}', \n",
    "                name='web_search')\n",
    "            ], \n",
    "        results=[\n",
    "            FunctionExecutionResult(\n",
    "                content='The Labrador is a British breed of gun dog', \n",
    "                name='web_search', \n",
    "                call_id='call_YzzmYwuEOkff1nRR4Cy8r2AE', \n",
    "                is_error=False\n",
    "            ), \n",
    "            FunctionExecutionResult(\n",
    "                content='The Labrador is a British breed of gun dog', \n",
    "                name='web_search', \n",
    "                call_id='call_DVPa5ZiubisIT5S6moQ6ngIV', \n",
    "                is_error=False\n",
    "            ), \n",
    "            FunctionExecutionResult(\n",
    "                content='The Labrador is a British breed of gun dog', \n",
    "                name='web_search', \n",
    "                call_id='call_GC6tLL9xiP1rqlTClmVMZcaE', \n",
    "                is_error=False)\n",
    "            ]\n",
    "    ), \n",
    "    \n",
    "inner_messages=[\n",
    "    ToolCallRequestEvent(\n",
    "        id='231c7372-e95e-4f03-ac4e-66ad27bbf45b', \n",
    "        source='assistant', \n",
    "        models_usage=RequestUsage(prompt_tokens=118, completion_tokens=71), \n",
    "        metadata={}, \n",
    "        created_at=datetime.datetime(2025, 7, 18, 4, 58, 10, 765191, tzinfo=datetime.timezone.utc), \n",
    "        content=[\n",
    "            FunctionCall(\n",
    "                id='call_YzzmYwuEOkff1nRR4Cy8r2AE', \n",
    "                arguments='{\"query\": \"Labrador breed information\"}', \n",
    "                name='web_search'\n",
    "            ), \n",
    "            FunctionCall(\n",
    "                id='call_DVPa5ZiubisIT5S6moQ6ngIV', \n",
    "                arguments='{\"query\": \"Labrador dog characteristics\"}', \n",
    "                name='web_search'\n",
    "            ), \n",
    "            FunctionCall(\n",
    "                id='call_GC6tLL9xiP1rqlTClmVMZcaE', \n",
    "                arguments='{\"query\": \"Labrador health and care\"}', \n",
    "                name='web_search'\n",
    "            )\n",
    "        ], \n",
    "        type='ToolCallRequestEvent'\n",
    "    ), \n",
    "    ToolCallExecutionEvent(\n",
    "        id='8140f539-0e29-422b-b703-b9d2a6280456', \n",
    "        source='assistant', \n",
    "        models_usage=None, \n",
    "        metadata={}, \n",
    "        created_at=datetime.datetime(2025, 7, 18, 4, 58, 10, 774237, tzinfo=datetime.timezone.utc), \n",
    "        content=[\n",
    "            FunctionExecutionResult(content='The Labrador is a British breed of gun dog', name='web_search', call_id='call_YzzmYwuEOkff1nRR4Cy8r2AE', is_error=False), FunctionExecutionResult(content='The Labrador is a British breed of gun dog', name='web_search', call_id='call_DVPa5ZiubisIT5S6moQ6ngIV', is_error=False), FunctionExecutionResult(content='The Labrador is a British breed of gun dog', name='web_search', call_id='call_GC6tLL9xiP1rqlTClmVMZcaE', is_error=False)\n",
    "        ], \n",
    "        type='ToolCallExecutionEvent'\n",
    "    )\n",
    "]\n"
   ]
  }
 ],
 "metadata": {
  "kernelspec": {
   "display_name": "Python 3",
   "language": "python",
   "name": "python3"
  },
  "language_info": {
   "codemirror_mode": {
    "name": "ipython",
    "version": 3
   },
   "file_extension": ".py",
   "mimetype": "text/x-python",
   "name": "python",
   "nbconvert_exporter": "python",
   "pygments_lexer": "ipython3",
   "version": "3.12.11"
  }
 },
 "nbformat": 4,
 "nbformat_minor": 5
}
