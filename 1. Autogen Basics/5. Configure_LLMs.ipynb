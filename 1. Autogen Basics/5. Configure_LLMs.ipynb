{
 "cells": [
  {
   "cell_type": "markdown",
   "id": "055fd83b",
   "metadata": {},
   "source": [
    "# Configuring LLMs\n",
    "\n",
    "When we build agents we need to provide access to LLM such as OpenAI, Azure OpenAI, Gemini etc.. to them which act as there brain.\n",
    "\n",
    "As there are multiple options available via different APIs, `autogen-core` has implemented a protocol for model clients and `autogen-ext` has implemented a set of model clients for some populat LLM services. `AgentChat` can use these model clients to interect with these services.\n",
    "\n",
    "\n",
    "## OpenAI\n",
    "\n",
    "We can access OpenAI model with the help of `OpenAIChatCompletionClient()` provided by `autogen-ext[openai]`"
   ]
  },
  {
   "cell_type": "code",
   "execution_count": 6,
   "id": "d545988a",
   "metadata": {},
   "outputs": [],
   "source": [
    "import os\n",
    "from dotenv import load_dotenv\n",
    "load_dotenv()\n",
    "from autogen_ext.models.openai import OpenAIChatCompletionClient\n",
    "from autogen_core.models import UserMessage\n",
    "open_api_key = os.getenv('OPENAI_API_KEY')\n",
    "gemini_api_key = os.getenv('GOOGLE_API_KEY')\n",
    "openrouter_api_key = os.getenv('OPEN_ROUTER_API_KEY')\n",
    "\n",
    "openai_client_model = OpenAIChatCompletionClient(model='gpt-4o-mini', api_key = open_api_key)"
   ]
  },
  {
   "cell_type": "code",
   "execution_count": 8,
   "id": "f05f1f99",
   "metadata": {},
   "outputs": [
    {
     "name": "stdout",
     "output_type": "stream",
     "text": [
      "The full form of RCB is \"Royal Challengers Bangalore.\" It is a professional cricket team based in Bangalore, India, that competes in the Indian Premier League (IPL).\n"
     ]
    }
   ],
   "source": [
    "result = await openai_client_model.create([UserMessage(content='What is the full form of RCB?', source='user')])\n",
    "print(result.content)\n",
    "await openai_client_model.close()"
   ]
  },
  {
   "cell_type": "markdown",
   "id": "16ffeca6",
   "metadata": {},
   "source": [
    "## Gemini\n",
    "\n",
    "As Gemini models are accessible using the OpenAI libraries along with the REST API. We can use `OpenAIChatCompletionClient()` with the Gemini API."
   ]
  },
  {
   "cell_type": "code",
   "execution_count": 9,
   "id": "48df8498",
   "metadata": {},
   "outputs": [
    {
     "name": "stdout",
     "output_type": "stream",
     "text": [
      "CSK stands for **Chennai Super Kings**.\n"
     ]
    }
   ],
   "source": [
    "gemini_model_client = OpenAIChatCompletionClient(\n",
    "    model = 'gemini-2.5-flash',\n",
    "    api_key = gemini_api_key,\n",
    ")\n",
    "\n",
    "response = await gemini_model_client.create([UserMessage(content='What is the full form of CSK?', source='user')])\n",
    "\n",
    "print(response.content)\n",
    "await gemini_model_client.close()"
   ]
  },
  {
   "cell_type": "markdown",
   "id": "7bc854f2",
   "metadata": {},
   "source": [
    "### OpenRouter API\n",
    "\n",
    "There one more way we can access the fre models by using [OpenRouter](https://openrouter.ai/). You would have to sign up and create an API key and search for free models available, with certain call limits.\n",
    "\n",
    "As there is no specific client model define for OpenRouter we will be using `OpenAIChatCompletionClient()` to access these models with API, model, and model_info."
   ]
  },
  {
   "cell_type": "code",
   "execution_count": null,
   "id": "9c27f4ae",
   "metadata": {},
   "outputs": [
    {
     "name": "stderr",
     "output_type": "stream",
     "text": [
      "c:\\Users\\ashut\\OneDrive\\Documents\\study material\\Agentic_AI_Krish\\Autogen\\autogen-venv\\Lib\\site-packages\\autogen_ext\\models\\openai\\_openai_client.py:439: UserWarning: Missing required field 'structured_output' in ModelInfo. This field will be required in a future version of AutoGen.\n",
      "  validate_model_info(self._model_info)\n"
     ]
    }
   ],
   "source": [
    "openrouter_model_client = OpenAIChatCompletionClient(\n",
    "    base_url='https://openrouter.ai/api/v1',\n",
    "    model = 'deepseek/deepseek-r1-0528:free',\n",
    "    api_key = openrouter_api_key,\n",
    "    model_info={\n",
    "        'family':'deepseek',\n",
    "        'vision':True,\n",
    "        'function_calling':True,\n",
    "        'json_output':False,\n",
    "        'structured_output':True\n",
    "    }\n",
    ")"
   ]
  },
  {
   "cell_type": "code",
   "execution_count": 10,
   "id": "cbabd4a8",
   "metadata": {},
   "outputs": [
    {
     "name": "stdout",
     "output_type": "stream",
     "text": [
      "The **Chennai Super Kings (CSK)** won the **2023 Indian Premier League (IPL)**.  \n",
      "\n",
      "In a thrilling final match played on **May 29, 2023**, at the Narendra Modi Stadium in Ahmedabad:\n",
      "- CSK defeated the **Gujarat Titans (GT)** by **5 wickets** (via the DLS method).  \n",
      "- CSK chased down a revised target of **171 runs in 15 overs** after rain interrupted the game.  \n",
      "- **Ravindra Jadeja** hit a boundary off the final ball to secure CSK's **5th IPL title**, tying them with the Mumbai Indians for the most titles in IPL history.  \n",
      "\n",
      "### Key Highlights:\n",
      "- **Gujarat Titans** scored 214/4 in their 20 overs (Sai Sudharsan: 96 off 47).  \n",
      "- Rain reduced CSK's target to 171 in 15 overs.  \n",
      "- **Devon Conway** (47 off 25) and **Shivam Dube** (32* off 21) anchored CSK's chase.  \n",
      "- **Ravindra Jadeja** (15* off 6) sealed the win with a last-ball four.  \n",
      "\n",
      "CSK, led by **MS Dhoni**, also became the **defending champions** heading into IPL 2024. 🏆  \n",
      "\n",
      "![Chennai Super Kings celebrating 2023 IPL win](https://example.com/csk-2023-ipl-win.jpg) *CSK celebrating their 5th IPL title*\n"
     ]
    }
   ],
   "source": [
    "response = await openrouter_model_client.create([UserMessage(content='Who won the 2023 IPL?', source='user')])\n",
    "\n",
    "print(response.content)"
   ]
  },
  {
   "cell_type": "code",
   "execution_count": null,
   "id": "8d669bd6",
   "metadata": {},
   "outputs": [],
   "source": []
  }
 ],
 "metadata": {
  "kernelspec": {
   "display_name": "Python 3",
   "language": "python",
   "name": "python3"
  },
  "language_info": {
   "codemirror_mode": {
    "name": "ipython",
    "version": 3
   },
   "file_extension": ".py",
   "mimetype": "text/x-python",
   "name": "python",
   "nbconvert_exporter": "python",
   "pygments_lexer": "ipython3",
   "version": "3.12.11"
  }
 },
 "nbformat": 4,
 "nbformat_minor": 5
}
