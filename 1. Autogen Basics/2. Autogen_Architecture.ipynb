{
 "cells": [
  {
   "cell_type": "markdown",
   "id": "2b690e9c",
   "metadata": {},
   "source": [
    "## Autogen Architecture\n",
    "\n",
    "Let's understand the Architecture\n",
    "\n",
    "The architecture is divided into three main sections:\n",
    "\n",
    "- **APPS**: Pre-built and custom applications.\n",
    "- **AG Framework**: Core components powering agents.\n",
    "- **Developer Tools**: Tools for testing and building.\n",
    "\n",
    "\n",
    "<img src=\"./images/autogen_architecture.jpg\" alt=\"Autogen Architecture\" width=\"600\"/>"
   ]
  },
  {
   "cell_type": "markdown",
   "id": "328c810c",
   "metadata": {},
   "source": [
    "## APPS Layer \n",
    "\n",
    "### a. Magentic-One\n",
    "\n",
    "- **Purpose**: A pre-built application demonstrating multi-agent collaboration (e.g., group problem-solving).\n",
    "- **Role**: Serves as a reference implementation for developers.\n",
    "\n",
    "### b. Your App Here\n",
    "\n",
    "- **Purpose**: A customizable space for user-defined applications.\n",
    "- **Use Cases**:\n",
    "\n",
    "    - Customer service chatbots.\n",
    "    - AI research assistants.\n",
    "    - Automated content generation workflows.\n",
    "\n",
    "- **Flexibility**: Integrates with LLMs (GPT-4, local models) via the AG Framework.\n",
    "\n",
    "\n",
    "## AG Framework Layer \n",
    "\n",
    "### a. Core\n",
    "\n",
    "- **Design** : It is an asynchronous, event driven architecture using an actor model to develop agents.\n",
    "- **Key Features** : Agents act independently and react to events\n"
   ]
  },
  {
   "cell_type": "markdown",
   "id": "ee78dab3",
   "metadata": {},
   "source": []
  }
 ],
 "metadata": {
  "language_info": {
   "name": "python"
  }
 },
 "nbformat": 4,
 "nbformat_minor": 5
}
