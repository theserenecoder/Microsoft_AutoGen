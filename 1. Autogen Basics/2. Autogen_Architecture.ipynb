{
 "cells": [
  {
   "cell_type": "markdown",
   "id": "2b690e9c",
   "metadata": {},
   "source": [
    "## Autogen Architecture\n",
    "\n",
    "Let's understand the Architecture\n",
    "\n",
    "<img src=\"./images/autogen_architecture.jpg\" alt=\"Autogen Architecture\" width=\"600\"/>"
   ]
  },
  {
   "cell_type": "markdown",
   "id": "328c810c",
   "metadata": {},
   "source": []
  }
 ],
 "metadata": {
  "language_info": {
   "name": "python"
  }
 },
 "nbformat": 4,
 "nbformat_minor": 5
}
