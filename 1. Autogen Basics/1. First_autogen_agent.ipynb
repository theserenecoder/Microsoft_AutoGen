{
 "cells": [
  {
   "cell_type": "markdown",
   "id": "f19c6433",
   "metadata": {},
   "source": [
    "# AutoGen\n",
    "\n",
    "It is a framework developed by Microsoft to create ulti-agent system with an asynchronous, event-driven architecture. It is used for building smater and scalable multi-agent system, which is highly flexible and is integrated with Microsoft AI ecosystem.\n",
    "\n",
    "We will be building a simple agent using Autogen V.06 and OpnAI's GPT-4."
   ]
  },
  {
   "cell_type": "code",
   "execution_count": 5,
   "id": "bfd1f687",
   "metadata": {},
   "outputs": [
    {
     "data": {
      "text/plain": [
       "True"
      ]
     },
     "execution_count": 5,
     "metadata": {},
     "output_type": "execute_result"
    }
   ],
   "source": [
    "from autogen_agentchat.agents import AssistantAgent\n",
    "from autogen_ext.models.openai import OpenAIChatCompletionClient\n",
    "from dotenv import load_dotenv\n",
    "import os\n",
    "load_dotenv()"
   ]
  },
  {
   "cell_type": "code",
   "execution_count": 8,
   "id": "b62ee79c",
   "metadata": {},
   "outputs": [],
   "source": [
    "## defining the openai model client\n",
    "openai_model_client = OpenAIChatCompletionClient(model='gpt-4o-mini')"
   ]
  },
  {
   "cell_type": "markdown",
   "id": "3a4b7fe0",
   "metadata": {},
   "source": [
    "## Building the Agent"
   ]
  },
  {
   "cell_type": "code",
   "execution_count": null,
   "id": "0ed427cf",
   "metadata": {},
   "outputs": [],
   "source": [
    "## Define the Agent\n",
    "assistant = AssistantAgent(name='my_asistant', model_client=openai_model_client)"
   ]
  },
  {
   "cell_type": "code",
   "execution_count": 26,
   "id": "f6ed3e06",
   "metadata": {},
   "outputs": [
    {
     "name": "stdout",
     "output_type": "stream",
     "text": [
      "messages=[TextMessage(id='41f5cd71-7204-4f1e-8592-225fb99f47d0', source='user', models_usage=None, metadata={}, created_at=datetime.datetime(2025, 7, 11, 6, 55, 0, 490677, tzinfo=datetime.timezone.utc), content='Explain core components of langgraph in 2 lines', type='TextMessage'), TextMessage(id='aa00267e-0ba0-4fc4-a3d8-7a5fe27a7a14', source='my_asistant', models_usage=RequestUsage(prompt_tokens=1355, completion_tokens=51), metadata={}, created_at=datetime.datetime(2025, 7, 11, 6, 55, 2, 86372, tzinfo=datetime.timezone.utc), content=\"LangGraph's core components include a **graph-based structure** for modeling relationships between language entities and a **modular framework** that enables easy integration and customization of large language model functionalities for diverse applications. This design facilitates efficient natural language understanding and generation processes.\", type='TextMessage')] stop_reason=None\n"
     ]
    }
   ],
   "source": [
    "## Ask the question to your agent\n",
    "result= await assistant.run(task=\"Explain core components of langgraph in 2 lines\")\n",
    "\n",
    "print(result)"
   ]
  },
  {
   "cell_type": "code",
   "execution_count": 27,
   "id": "8194e8ab",
   "metadata": {},
   "outputs": [
    {
     "name": "stdout",
     "output_type": "stream",
     "text": [
      "LangGraph's core components include a **graph-based structure** for modeling relationships between language entities and a **modular framework** that enables easy integration and customization of large language model functionalities for diverse applications. This design facilitates efficient natural language understanding and generation processes.\n"
     ]
    }
   ],
   "source": [
    "print(result.messages[-1].content)"
   ]
  },
  {
   "cell_type": "markdown",
   "id": "b337237e",
   "metadata": {},
   "source": [
    "### Autogen also has a short term inbuild memory"
   ]
  },
  {
   "cell_type": "code",
   "execution_count": 31,
   "id": "cc5e3e28",
   "metadata": {},
   "outputs": [
    {
     "name": "stdout",
     "output_type": "stream",
     "text": [
      "Your last question was \"What was my last question?\"\n"
     ]
    }
   ],
   "source": [
    "result2= await assistant.run(task='What was my last question')\n",
    "print(result2.messages[-1].content)"
   ]
  },
  {
   "cell_type": "markdown",
   "id": "d7e1f080",
   "metadata": {},
   "source": [
    "## Autogen Architecture\n",
    "\n",
    "<img src=\"./images/autogen_architecture.jpg\" alt=\"Autogen Architecture\" width=\"1000\"/>"
   ]
  },
  {
   "cell_type": "code",
   "execution_count": null,
   "id": "6f6838ca",
   "metadata": {},
   "outputs": [],
   "source": []
  }
 ],
 "metadata": {
  "kernelspec": {
   "display_name": "Python 3",
   "language": "python",
   "name": "python3"
  },
  "language_info": {
   "codemirror_mode": {
    "name": "ipython",
    "version": 3
   },
   "file_extension": ".py",
   "mimetype": "text/x-python",
   "name": "python",
   "nbconvert_exporter": "python",
   "pygments_lexer": "ipython3",
   "version": "3.12.11"
  }
 },
 "nbformat": 4,
 "nbformat_minor": 5
}
