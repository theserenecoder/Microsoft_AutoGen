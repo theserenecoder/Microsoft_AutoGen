{
 "cells": [
  {
   "cell_type": "markdown",
   "id": "46aa3937",
   "metadata": {},
   "source": [
    "## Using AgentChat API with AssistantAgent\n",
    "\n",
    "In this demo we will be using AgentChat API to create a simple AssistantAgent and will understand its capabilities"
   ]
  },
  {
   "cell_type": "code",
   "execution_count": 3,
   "id": "87732e2a",
   "metadata": {},
   "outputs": [
    {
     "data": {
      "text/plain": [
       "True"
      ]
     },
     "execution_count": 3,
     "metadata": {},
     "output_type": "execute_result"
    }
   ],
   "source": [
    "from autogen_agentchat.agents import AssistantAgent\n",
    "from autogen_ext.models.openai import OpenAIChatCompletionClient\n",
    "from dotenv import load_dotenv\n",
    "load_dotenv()"
   ]
  },
  {
   "cell_type": "code",
   "execution_count": 4,
   "id": "3edeadf6",
   "metadata": {},
   "outputs": [],
   "source": [
    "gpt4o_mini_model = OpenAIChatCompletionClient(model = 'gpt-4o-mini')"
   ]
  },
  {
   "cell_type": "markdown",
   "id": "ca4e785f",
   "metadata": {},
   "source": [
    "## Creating Our First Assistant Agent\n"
   ]
  },
  {
   "cell_type": "code",
   "execution_count": 5,
   "id": "d12eca3a",
   "metadata": {},
   "outputs": [],
   "source": [
    "assistant = AssistantAgent(\n",
    "    name = 'my_assistant',\n",
    "    model_client=gpt4o_mini_model\n",
    ")"
   ]
  },
  {
   "cell_type": "markdown",
   "id": "04a4fbe1",
   "metadata": {},
   "source": [
    "### Testing the Assistant Agent\n",
    "\n",
    "We'll be using `run` method to send a taks and get a response"
   ]
  },
  {
   "cell_type": "code",
   "execution_count": 6,
   "id": "2cfa483f",
   "metadata": {},
   "outputs": [
    {
     "name": "stdout",
     "output_type": "stream",
     "text": [
      "[TextMessage(id='53fb67e9-d249-4058-afcc-c30341d6f1eb', source='user', models_usage=None, metadata={}, created_at=datetime.datetime(2025, 7, 14, 8, 20, 23, 440290, tzinfo=datetime.timezone.utc), content='What is the capitol of India?', type='TextMessage'), TextMessage(id='d9219928-73aa-4e91-b7e0-844636e9ffd1', source='my_assistant', models_usage=RequestUsage(prompt_tokens=44, completion_tokens=10), metadata={}, created_at=datetime.datetime(2025, 7, 14, 8, 20, 25, 428529, tzinfo=datetime.timezone.utc), content='The capital of India is New Delhi. TERMINATE', type='TextMessage')]\n"
     ]
    }
   ],
   "source": [
    "result = await assistant.run(task='What is the capitol of India?')\n",
    "\n",
    "print(result.messages)"
   ]
  },
  {
   "cell_type": "markdown",
   "id": "d7e2f999",
   "metadata": {},
   "source": [
    "**User Query**\n",
    "\n",
    "[TextMessage(id='53fb67e9-d249-4058-afcc-c30341d6f1eb', source='user', models_usage=None, metadata={}, created_at=datetime.datetime(2025, 7, 14, 8, 20, 23, 440290, tzinfo=datetime.timezone.utc), content='What is the capitol of India?', type='TextMessage'), \n",
    "\n",
    "**Assistant Response**\n",
    "\n",
    "TextMessage(id='d9219928-73aa-4e91-b7e0-844636e9ffd1', source='my_assistant', models_usage=RequestUsage(prompt_tokens=44, completion_tokens=10), metadata={}, created_at=datetime.datetime(2025, 7, 14, 8, 20, 25, 428529, tzinfo=datetime.timezone.utc), content='The capital of India is New Delhi. TERMINATE', type='TextMessage'"
   ]
  },
  {
   "cell_type": "markdown",
   "id": "06af7d12",
   "metadata": {},
   "source": [
    "### Structure of Agent Response\n",
    "\n",
    "User query and Assistant reponse both are available as TextMessages. Each message has:\n",
    "\n",
    "- **id** : A uniqe id defined.\n",
    "- **source** : User, assistant or tool.\n",
    "- **model_usage** : It provides the prompts token and completion token used by LLM.\n",
    "- **metadata** : some more info.\n",
    "- **created_at** : datetime at which the it was run and response was created.\n",
    "- **content** : This is the main context which we need. This can be user query or agent response.\n",
    "\n",
    "Each message has a Source"
   ]
  },
  {
   "cell_type": "code",
   "execution_count": 8,
   "id": "62f65e28",
   "metadata": {},
   "outputs": [
    {
     "name": "stdout",
     "output_type": "stream",
     "text": [
      "The capital of India is New Delhi. TERMINATE\n"
     ]
    }
   ],
   "source": [
    "print(result.messages[-1].content)"
   ]
  },
  {
   "cell_type": "code",
   "execution_count": null,
   "id": "e07276d1",
   "metadata": {},
   "outputs": [],
   "source": []
  }
 ],
 "metadata": {
  "kernelspec": {
   "display_name": "Python 3",
   "language": "python",
   "name": "python3"
  },
  "language_info": {
   "codemirror_mode": {
    "name": "ipython",
    "version": 3
   },
   "file_extension": ".py",
   "mimetype": "text/x-python",
   "name": "python",
   "nbconvert_exporter": "python",
   "pygments_lexer": "ipython3",
   "version": "3.12.11"
  }
 },
 "nbformat": 4,
 "nbformat_minor": 5
}
