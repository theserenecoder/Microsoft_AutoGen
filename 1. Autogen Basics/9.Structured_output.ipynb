{
 "cells": [
  {
   "cell_type": "markdown",
   "id": "7fcf4524",
   "metadata": {},
   "source": [
    "# Structured Output\n",
    "\n",
    "With the help of structured output, modfels can return structured text format with a pre-defined schema provided by the application such as `Pydantic Basemodal`.\n",
    "\n",
    "We need to define a base model class which contains the schema which needs to be passed in the `output_content_type` parameter of AssistantAgent. The agent will respond with a `StructuredMessage` with base model class content type.\n",
    "\n",
    "Structured output is also useful for incorporating Chain-of-Thought reasoning in the agents responses.\n",
    "\n"
   ]
  },
  {
   "cell_type": "code",
   "execution_count": 19,
   "id": "6520c3bf",
   "metadata": {},
   "outputs": [],
   "source": [
    "from autogen_agentchat.agents import AssistantAgent\n",
    "from autogen_ext.models.openai import OpenAIChatCompletionClient\n",
    "from autogen_agentchat.messages import TextMessage\n",
    "from dotenv import load_dotenv\n",
    "import os\n",
    "\n",
    "from pydantic import BaseModel\n",
    "\n",
    "load_dotenv()\n",
    "openai_api_key = os.getenv('OPENAI_API_KEY')"
   ]
  },
  {
   "cell_type": "code",
   "execution_count": null,
   "id": "adec62fa",
   "metadata": {},
   "outputs": [],
   "source": [
    "## defining the base class\n",
    "class GetAddress(BaseModel):\n",
    "    name: str\n",
    "    street_address: str\n",
    "    city : str\n",
    "    postal_code : str\n",
    "    country: str\n",
    "    \n",
    "openai_model_client = OpenAIChatCompletionClient(model='gpt-4o-mini')"
   ]
  },
  {
   "cell_type": "code",
   "execution_count": null,
   "id": "a54d188a",
   "metadata": {},
   "outputs": [],
   "source": [
    "## creating agent\n",
    "agent = AssistantAgent(\n",
    "    name='my_assistant',\n",
    "    model_client=openai_model_client,\n",
    "    system_message='You are a helpful assistant. Provide the output in the specified format: name, street_address, city, postal_code, country',\n",
    "    output_content_type=GetAddress,\n",
    ")"
   ]
  },
  {
   "cell_type": "code",
   "execution_count": 27,
   "id": "c7a216d8",
   "metadata": {},
   "outputs": [
    {
     "data": {
      "text/plain": [
       "GetAddress(name='Kekuli Café', street_address='434 Broughton Rd', city='Kelowna', postal_code='V1X 4T7', country='Canada')"
      ]
     },
     "execution_count": 27,
     "metadata": {},
     "output_type": "execute_result"
    }
   ],
   "source": [
    "## output function\n",
    "async def test_structured_output():\n",
    "    message = TextMessage(content='What is the address of Kekuli Café in Kelowna', source='user')\n",
    "    result = await agent.run(task=message)\n",
    "    structured_output = result.messages[-1].content\n",
    "    return structured_output\n",
    "    \n",
    "await test_structured_output()\n"
   ]
  }
 ],
 "metadata": {
  "kernelspec": {
   "display_name": "Python 3",
   "language": "python",
   "name": "python3"
  },
  "language_info": {
   "codemirror_mode": {
    "name": "ipython",
    "version": 3
   },
   "file_extension": ".py",
   "mimetype": "text/x-python",
   "name": "python",
   "nbconvert_exporter": "python",
   "pygments_lexer": "ipython3",
   "version": "3.12.11"
  }
 },
 "nbformat": 4,
 "nbformat_minor": 5
}
