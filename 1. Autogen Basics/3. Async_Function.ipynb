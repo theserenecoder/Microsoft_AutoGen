{
 "cells": [
  {
   "cell_type": "markdown",
   "id": "05adf5c6",
   "metadata": {},
   "source": [
    "## Asynchronus vs Synchronous"
   ]
  },
  {
   "cell_type": "code",
   "execution_count": 2,
   "id": "c3ff6bdf",
   "metadata": {},
   "outputs": [
    {
     "name": "stdout",
     "output_type": "stream",
     "text": [
      "Brewing Coffee\n",
      "Toasting Bagel\n",
      "Coffee Ready Bagel Ready Time : 5.00 minutes\n"
     ]
    }
   ],
   "source": [
    "import time\n",
    "def brew_cofee():\n",
    "    print('Brewing Coffee')\n",
    "    time.sleep(3)\n",
    "    return 'Coffee Ready'\n",
    "\n",
    "def toast_bagle():\n",
    "    print('Toasting Bagel')\n",
    "    time.sleep(2)\n",
    "    return 'Bagel Ready'\n",
    "\n",
    "start = time.time()\n",
    "\n",
    "coffee = brew_cofee()\n",
    "bagel = toast_bagle()\n",
    "\n",
    "end = time.time()\n",
    "\n",
    "print(coffee,bagel,f\"Time : {end-start:.2f} minutes\")"
   ]
  },
  {
   "cell_type": "code",
   "execution_count": 4,
   "id": "e4447074",
   "metadata": {},
   "outputs": [],
   "source": [
    "import asyncio\n",
    "import time\n",
    "def brew_cofee():\n",
    "    print('Brewing Coffee')\n",
    "    time.sleep(3)\n",
    "    return 'Coffee Ready'\n",
    "\n",
    "def toast_bagle():\n",
    "    print('Toasting Bagel')\n",
    "    time.sleep(2)\n",
    "    return 'Bagel Ready'\n",
    "\n",
    "def main():\n",
    "    start = time.time()\n",
    "\n",
    "    coffee = brew_cofee()\n",
    "    bagel = toast_bagle()\n",
    "\n",
    "    end = time.time()\n",
    "\n",
    "    print(coffee,bagel,f\"Time : {end-start:.2f} minutes\")"
   ]
  },
  {
   "cell_type": "code",
   "execution_count": null,
   "id": "e2463d40",
   "metadata": {},
   "outputs": [],
   "source": [
    "import asyncio\n",
    "\n",
    "acync def "
   ]
  }
 ],
 "metadata": {
  "kernelspec": {
   "display_name": "Python 3",
   "language": "python",
   "name": "python3"
  },
  "language_info": {
   "codemirror_mode": {
    "name": "ipython",
    "version": 3
   },
   "file_extension": ".py",
   "mimetype": "text/x-python",
   "name": "python",
   "nbconvert_exporter": "python",
   "pygments_lexer": "ipython3",
   "version": "3.12.11"
  }
 },
 "nbformat": 4,
 "nbformat_minor": 5
}
