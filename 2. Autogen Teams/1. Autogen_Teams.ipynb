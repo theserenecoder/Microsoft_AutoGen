{
 "cells": [
  {
   "cell_type": "markdown",
   "id": "e29db6de",
   "metadata": {},
   "source": [
    "## Agents in Teams\n",
    "\n",
    "In this section we will learn how to build multi-agent teams.\n",
    "\n",
    "Different Type of Teams Architecture:\n",
    "\n",
    "#### **RoundRobinGroupChat()**\n",
    "It is a simple team configuration where all the agents share the same context and take turns responding in a round robin fashion. Each agent during its turn broadcast its response to all other agents, ensuring that the entire team maintains the same context.\n"
   ]
  },
  {
   "cell_type": "code",
   "execution_count": 1,
   "id": "0ac4fc77",
   "metadata": {},
   "outputs": [],
   "source": [
    "import os\n",
    "from dotenv import load_dotenv\n",
    "from autogen_agentchat.agents import AssistantAgent\n",
    "from autogen_ext.models.openai import OpenAIChatCompletionClient\n",
    "from autogen_agentchat.messages import TextMessage\n",
    "\n",
    "load_dotenv()\n",
    "open_api_key = os.getenv('OPENAI_API_KEY')\n",
    "openai_model_client = OpenAIChatCompletionClient(model='gpt-4o-mini')"
   ]
  },
  {
   "cell_type": "markdown",
   "id": "3f236ee5",
   "metadata": {},
   "source": [
    "### Single Agent vs MultiAgent"
   ]
  },
  {
   "cell_type": "code",
   "execution_count": 2,
   "id": "e23b1a69",
   "metadata": {},
   "outputs": [
    {
     "name": "stdout",
     "output_type": "stream",
     "text": [
      "In the kingdom of Eldoria, where mountains kissed the sky and forests whispered secrets, there lived a valiant knight named Sir Cedric. A loyal protector of the realm, he was known for his bravery and unwavering sense of justice. Yet, despite his accolades, his heart felt heavy and lonely. \n",
      "\n",
      "One misty morning, while patrolling the edge of the Blackwood Forest, he stumbled upon a scruffy, golden-furred dog. The creature had a torn ear and a cautious gaze, but there was an undeniable spark of courage in its eyes. Sir Cedric knelt and offered a morsel of bread, which the dog devoured with eager gratitude. \n",
      "\n",
      "“From this day forth, I shall name you Bristle,” he declared, and from that moment, they became inseparable. Together, they ventured beyond daunting mountains and treacherous rivers, facing foes and forging friendships alike. Bristle’s keen instincts often led Sir Cedric to danger, but also to glory, earning them both a legendary status throughout Eldoria.\n",
      "\n",
      "One fateful night, dark clouds gathered overhead as a fierce dragon descended upon the village of Silverwood. Sir Cedric, with Bristle at his side, rallied the townsfolk to prepare for battle. The people’s spirits were waning, but the knight’s resolve burned brightly. \n",
      "\n",
      "With a roar that echoed through the valley, the dragon unleashed fiery breath. But Bristle darted forward, distracting the beast with unwavering bravery, while Sir Cedric charged, sword gleaming in the moonlight. With a strategic strike, he pierced the dragon's heart, ending its reign of terror.\n",
      "\n",
      "As the villagers celebrated their heroes, Sir Cedric looked down at Bristle, his loyal companion, and realized the true treasure of his journey: the bond of friendship, forged through courage and loyalty, was the greatest victory of all.\n"
     ]
    }
   ],
   "source": [
    "single_agent = AssistantAgent(\n",
    "    name='singlestoryagent',\n",
    "    model_client=openai_model_client,\n",
    "    system_message='You are a creative writer. Generate a short story about the plot user provides you.'\n",
    ")\n",
    "\n",
    "async def test_single_agent():\n",
    "    \n",
    "    task = TextMessage(content='Write a short story about a knight and a dog. Keep it in 300 words', source='user')\n",
    "    result = await single_agent.run(task=task)\n",
    "    \n",
    "    print(result.messages[-1].content)\n",
    "    \n",
    "await test_single_agent()"
   ]
  },
  {
   "cell_type": "markdown",
   "id": "1e99ed0f",
   "metadata": {},
   "source": [
    "### Agents Team using RoundRobinGroupChat()"
   ]
  },
  {
   "cell_type": "code",
   "execution_count": 3,
   "id": "f319a1b5",
   "metadata": {},
   "outputs": [],
   "source": [
    "from autogen_agentchat.teams import RoundRobinGroupChat\n",
    "from autogen_agentchat.ui import Console\n",
    "\n",
    "plot_agent = AssistantAgent(\n",
    "    name='plot_agent',\n",
    "    model_client=openai_model_client,\n",
    "    system_message='You are a creative writer. You create engaging plots for stories. Focus on creating the plot for the story based on the user prompt. You will only create the plot of the story'\n",
    ")\n",
    "\n",
    "character_agent = AssistantAgent(\n",
    "    name= 'character_agent',\n",
    "    model_client=openai_model_client,\n",
    "    system_message='You are a creative writer. You develop each character of the stories in detals, incluing their motivation and background based on the plot provided by \"plot_agent\". Make sure you only develop the characters and their background and motivation.'\n",
    ")\n",
    "\n",
    "editing_agent = AssistantAgent(\n",
    "    name = 'editing_agent',\n",
    "    model_client=openai_model_client,\n",
    "    system_message='You are a creative writer. You will write the complete story based on the plot provided by \"plot_agent\" and characters and their backgroud provided by \"character_agent\"'\n",
    ")"
   ]
  },
  {
   "cell_type": "code",
   "execution_count": 4,
   "id": "dae4946f",
   "metadata": {},
   "outputs": [
    {
     "name": "stdout",
     "output_type": "stream",
     "text": [
      "user : Write a short story about a knight and a dog. Keep it in 300 words\n",
      "\n",
      "\n",
      "\n",
      "plot_agent : In the medieval kingdom of Eldoria, Sir Cedric, a valiant knight known for his bravery, lived a simple life protecting the realm from dragons and marauders. However, it was not his sword skills that earned him the hearts of the people, but his unbreakable bond with Alaric, a scruffy, one-eyed dog he rescued from a pit on one of his quests.\n",
      "\n",
      "One fateful day, Eldoria was threatened by the return of a fearsome dragon named Grimbold. It had laid waste to villages and demanded tribute, leaving fear in its wake. The king summoned all knights to confront the beast, but Sir Cedric, though brave, feared for Alaric’s safety if he left him behind.\n",
      "\n",
      "Clad in shining armor, Cedric and Alaric embarked on the journey to confront Grimbold. They faced treacherous terrains and managed to outsmart traps laid by the dragon’s minions. With Alaric's keen senses and unwavering loyalty, they discovered that the dragon was not merely a creature of destruction, but was protecting its nest of golden eggs, believing them to be in danger from the nearby villagers.\n",
      "\n",
      "Understanding Grimbold's plight, Cedric devised a plan. Together with Alaric, he approached the dragon, offering a truce instead of battle. They proposed a deal—protection for the dragon’s eggs in exchange for peace. To everyone’s surprise, Grimbold agreed, seeing the sincerity in Cedric’s heart. \n",
      "\n",
      "In a twist of fate, the dragon became a guardian of the realm, and Alaric, once an unassuming stray, became a hero in his own right. Cedric forged an unexpected friendship, and together, the knight and his loyal dog helped transform Eldoria into a land of peace and understanding, where courage wasn't just about fighting foes, but also about making unexpected allies.\n",
      "\n",
      "\n",
      "\n",
      "character_agent : **Character Development**\n",
      "\n",
      "**Sir Cedric of Eldoria**: \n",
      "Sir Cedric is a knight in his early thirties, known throughout the kingdom for his valor and relentless sense of justice. Standing tall with broad shoulders, he possesses striking features, including dark hair that falls loosely over his brow and piercing green eyes that reflect his earnest spirit. He hails from a humble background; the son of a blacksmith, Cedric had dreams of chivalry from a young age, inspired by tales told by visiting knights. Although he is skilled in combat, what truly distinguishes him is his compassionate nature. He believes in protecting not just the realm, but also the creatures within it, stemming from the profound impact of his upbringing—his father constantly instilled the values of honor and humility. Cedric's steadfast loyalty toward Alaric, his one-eyed dog, stems from a shared understanding of what it means to be an outsider. His motivation is deeply tied to his quest for peace in the realm, striving to build bridges instead of barriers, as exemplified through his innovative approach to resolving conflict with Grimbold.\n",
      "\n",
      "**Alaric**:\n",
      "Alaric is a scruffy, mixed-breed dog with a coat that embodies the dust and grit of his humble beginnings. He lost his right eye in a scuffle with a wild animal before being rescued by Cedric. Despite his rough exterior, Alaric is astutely clever with a fierce sense of loyalty—traits that have made him invaluable in Cedric's adventures. His past as a stray has fostered an inherent understanding of survival and fear, but, paradoxically, has imbued him with love for his new owner. Alaric embodies the heart of the tale, as his keen instincts often lead Cedric to safety or opportunity. Motivated by his desire to protect Cedric and the bond they share, Alaric’s journey mirrors that of redemption; finding love, safety, and purpose within the realm of a knight’s life.\n",
      "\n",
      "**Grimbold the Dragon**:\n",
      "Grimbold, the fierce dragon, is an immense creature adorned with scales that gleam like molten gold. Though his reputation is that of a merciless beast, he has a tragic story. Hundreds of years old, Grimbold’s fierce demeanor is rooted in the loss of his kin and his nesting ground to human expansion, urging him to become a fierce guardian of his eggs, which represent his last line of lineage. The dragon's intimidating figure hides a heart brimming with sorrow. He threatens villages for protection, his motivation steeped in desperation rather than malice. Grimbold's encounter with Cedric challenges his views on humanity, leading him to reconsider trust and diplomacy when strength alone has failed him. \n",
      "\n",
      "Together, these characters weave a story of bravery, loyalty, and understanding—highlighting that true courage sometimes lies in the gentle hand of friendship rather than the sword alone.\n",
      "\n",
      "\n",
      "\n",
      "editing_agent : In the medieval kingdom of Eldoria, a knight named Sir Cedric earned his reputation not just for his valor, but for a bond that transcended the ordinary: his companionship with Alaric, a scruffy, one-eyed dog. Alaric, once a stray found in a perilous pit, accompanied him on quests, their rapport rooted in resilience and understanding.\n",
      "\n",
      "One day, the kingdom trembled as news spread of the fearsome dragon, Grimbold. Its wrath had turned verdant villages into smoldering ruins, and the king called upon all knights to confront the beast. There was fear in Cedric’s soul—not for himself, but for Alaric, whose loyalty had become his greatest treasure. How could he face a dragon with the love of his life left behind?\n",
      "\n",
      "With steely resolve and clad in shining armor, Cedric and Alaric entered perilous territories, navigating traps laid by Grimbold’s minions, their trust in each other unwavering. Alaric’s keen senses uncovered the truth hidden beneath the surface; Grimbold was not a mindless marauder, but a guardian fiercely protecting its precious nest of golden eggs—its last lineage.\n",
      "\n",
      "Cedric’s heart softened upon understanding the dragon’s plight. He approached Grimbold with Alaric at his side, advocating for peace instead of bloodshed. \"Let us forge a new path together,\" Cedric proposed, \"I shall protect your eggs, and you, guard our lands from fear.\"\n",
      "\n",
      "To everyone’s astonishment, Grimbold paused, recognition glimmering in his fierce eyes. He agreed, struck by Cedric’s sincerity. From conflict rose an alliance. Grimbold became a guardian, and Alaric, once a mere stray, emerged as a hero beside his knight.\n",
      "\n",
      "In the aftermath, Eldoria flourished, transformed by newfound understanding and shared strength. Together they showed the kingdom that true courage stemmed not from swords, but from compassion and friendship, where even the fiercest of enemies could become allies.\n",
      "\n",
      "\n",
      "\n"
     ]
    }
   ],
   "source": [
    "## agent team\n",
    "agent_team = RoundRobinGroupChat(\n",
    "    participants=[plot_agent,character_agent,editing_agent],\n",
    "    ## max_turns 3 means in total there will be 3 runs, when a agent runs that is counted as 1 run.\n",
    "    max_turns=3\n",
    ")\n",
    "\n",
    "async def test_team_output():\n",
    "    \n",
    "    task = TextMessage(content='Write a short story about a knight and a dog. Keep it in 300 words', source='user')\n",
    "    result = await agent_team.run(task=task)\n",
    "    \n",
    "    for each_message in result.messages:\n",
    "        print(f'{each_message.source} : {each_message.content}')\n",
    "        print('\\n\\n')\n",
    "        \n",
    "await test_team_output()"
   ]
  },
  {
   "cell_type": "markdown",
   "id": "4f03fe91",
   "metadata": {},
   "source": [
    "## Observing the Running Agent Team"
   ]
  },
  {
   "cell_type": "code",
   "execution_count": 21,
   "id": "bc66f029",
   "metadata": {},
   "outputs": [
    {
     "name": "stdout",
     "output_type": "stream",
     "text": [
      "Source:user: \n",
      "Write a poem on Love in 20 words\n",
      "------------------------------------------------------------\n",
      "Source:plot_agent: \n",
      "In soft whispers, love takes flight,  \n",
      "Hearts entwined, a dance of light.  \n",
      "Together we dream, hand in hand,  \n",
      "An eternal bond, forever grand.  \n",
      "Prompt Token 6806\n",
      "Completion Token 37\n",
      "------------------------------------------------------------\n",
      "Source:character_agent: \n",
      "In soft whispers, love takes flight,  \n",
      "Hearts entwined, a dance of light.  \n",
      "Together we dream, hand in hand,  \n",
      "An eternal bond, forever grand.  \n",
      "Prompt Token 6860\n",
      "Completion Token 37\n",
      "------------------------------------------------------------\n",
      "Source:editing_agent: \n",
      "In soft whispers, love takes flight,  \n",
      "Hearts entwined, a dance of light.  \n",
      "Together we dream, hand in hand,  \n",
      "An eternal bond, forever grand.  \n",
      "Prompt Token 6893\n",
      "Completion Token 37\n",
      "------------------------------------------------------------\n",
      "Stop Reason : Maximum number of turns 3 reached.\n",
      "Total Tokens 20670\n",
      "------------------------------------------------------------\n"
     ]
    }
   ],
   "source": [
    "from autogen_agentchat.base import TaskResult\n",
    "total_prompt_token = 0\n",
    "total_completion_token = 0\n",
    "async for message in agent_team.run_stream(task='Write a poem on Love in 20 words'):\n",
    "    if isinstance(message, TaskResult):\n",
    "        print(f\"Stop Reason : {message.stop_reason}\")\n",
    "        print(f\"Total Tokens {total}\")\n",
    "    #print(message.content)\n",
    "    elif message.source =='user':\n",
    "        print(f\"Source:{message.source}: \\n{message.content}\")\n",
    "    else:\n",
    "        print(f\"Source:{message.source}: \\n{message.content}\")\n",
    "        total_prompt_token += message.models_usage.prompt_tokens\n",
    "        total_completion_token += message.models_usage.completion_tokens\n",
    "        total = total_completion_token+total_prompt_token\n",
    "        print(f\"Prompt Token {message.models_usage.prompt_tokens}\")\n",
    "        print(f\"Completion Token {message.models_usage.completion_tokens}\")\n",
    "        \n",
    "    print(\"-\"*60)"
   ]
  },
  {
   "cell_type": "code",
   "execution_count": 27,
   "id": "6de32067",
   "metadata": {},
   "outputs": [
    {
     "name": "stdout",
     "output_type": "stream",
     "text": [
      "---------- TextMessage (user) ----------\n",
      "Write a poem on Life in 20 words\n"
     ]
    },
    {
     "name": "stdout",
     "output_type": "stream",
     "text": [
      "---------- TextMessage (plot_agent) ----------\n",
      "Life's a journey, twists and turns,  \n",
      "With every lesson, a new hope burns.  \n",
      "Moments fleeting, memories to keep,  \n",
      "In laughter and love, our dreams run deep.  \n",
      "---------- TextMessage (character_agent) ----------\n",
      "Life's a journey, twists and turns,  \n",
      "With every lesson, a new hope burns.  \n",
      "Moments fleeting, memories to keep,  \n",
      "In laughter and love, our dreams run deep.  \n",
      "---------- TextMessage (editing_agent) ----------\n",
      "Life's a journey, twists and turns,  \n",
      "With every lesson, a new hope burns.  \n",
      "Moments fleeting, memories to keep,  \n",
      "In laughter and love, our dreams run deep.  \n"
     ]
    },
    {
     "data": {
      "text/plain": [
       "TaskResult(messages=[TextMessage(id='5129e6d2-3164-4106-b96a-ab32f54047b0', source='user', models_usage=None, metadata={}, created_at=datetime.datetime(2025, 7, 25, 6, 52, 52, 810337, tzinfo=datetime.timezone.utc), content='Write a poem on Life in 20 words', type='TextMessage'), TextMessage(id='0116f387-c3c7-491b-a6e5-ba181eb1b57b', source='plot_agent', models_usage=RequestUsage(prompt_tokens=7857, completion_tokens=40), metadata={}, created_at=datetime.datetime(2025, 7, 25, 6, 52, 54, 48364, tzinfo=datetime.timezone.utc), content=\"Life's a journey, twists and turns,  \\nWith every lesson, a new hope burns.  \\nMoments fleeting, memories to keep,  \\nIn laughter and love, our dreams run deep.  \", type='TextMessage'), TextMessage(id='afe4e925-cace-4116-9095-2448733bdc7c', source='character_agent', models_usage=RequestUsage(prompt_tokens=7914, completion_tokens=40), metadata={}, created_at=datetime.datetime(2025, 7, 25, 6, 52, 55, 627350, tzinfo=datetime.timezone.utc), content=\"Life's a journey, twists and turns,  \\nWith every lesson, a new hope burns.  \\nMoments fleeting, memories to keep,  \\nIn laughter and love, our dreams run deep.  \", type='TextMessage'), TextMessage(id='0803476a-8589-41ad-b27f-6e2a8d4a6a0b', source='editing_agent', models_usage=RequestUsage(prompt_tokens=7950, completion_tokens=40), metadata={}, created_at=datetime.datetime(2025, 7, 25, 6, 52, 56, 732333, tzinfo=datetime.timezone.utc), content=\"Life's a journey, twists and turns,  \\nWith every lesson, a new hope burns.  \\nMoments fleeting, memories to keep,  \\nIn laughter and love, our dreams run deep.  \", type='TextMessage')], stop_reason='Maximum number of turns 3 reached.')"
      ]
     },
     "execution_count": 27,
     "metadata": {},
     "output_type": "execute_result"
    }
   ],
   "source": [
    "await Console(\n",
    "    agent_team.run_stream(task=\"Write a poem on Life in 20 words\")\n",
    ")"
   ]
  },
  {
   "cell_type": "code",
   "execution_count": null,
   "id": "20ebed20",
   "metadata": {},
   "outputs": [],
   "source": []
  }
 ],
 "metadata": {
  "kernelspec": {
   "display_name": "Python 3",
   "language": "python",
   "name": "python3"
  },
  "language_info": {
   "codemirror_mode": {
    "name": "ipython",
    "version": 3
   },
   "file_extension": ".py",
   "mimetype": "text/x-python",
   "name": "python",
   "nbconvert_exporter": "python",
   "pygments_lexer": "ipython3",
   "version": "3.12.11"
  }
 },
 "nbformat": 4,
 "nbformat_minor": 5
}
