{
 "cells": [
  {
   "cell_type": "markdown",
   "id": "e29db6de",
   "metadata": {},
   "source": [
    "## Agents in Teams"
   ]
  },
  {
   "cell_type": "markdown",
   "id": "0ac4fc77",
   "metadata": {},
   "source": []
  }
 ],
 "metadata": {
  "kernelspec": {
   "display_name": "Python 3",
   "language": "python",
   "name": "python3"
  },
  "language_info": {
   "name": "python",
   "version": "3.12.11"
  }
 },
 "nbformat": 4,
 "nbformat_minor": 5
}
