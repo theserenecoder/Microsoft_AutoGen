{
 "cells": [
  {
   "cell_type": "markdown",
   "id": "e29db6de",
   "metadata": {},
   "source": [
    "## Agents in Teams\n",
    "\n",
    "In this section we will learn how to build multi-agent teams.\n",
    "\n",
    "Different Type of Teams Architecture:\n",
    "\n",
    "#### **RoundRobinGroupChat()**\n",
    "It is a simple team configuration where all the agents share the same context and take turns responding in a round robin fashion. Each agent during its turn broadcast its response to all other agents, ensuring that the entire team maintains the same context.\n"
   ]
  },
  {
   "cell_type": "code",
   "execution_count": 2,
   "id": "0ac4fc77",
   "metadata": {},
   "outputs": [],
   "source": [
    "import os\n",
    "from dotenv import load_dotenv\n",
    "from autogen_agentchat.agents import AssistantAgent\n",
    "from autogen_ext.models.openai import OpenAIChatCompletionClient\n",
    "from autogen_agentchat.messages import TextMessage\n",
    "\n",
    "load_dotenv()\n",
    "open_api_key = os.getenv('OPENAI_API_KEY')\n",
    "openai_model_client = OpenAIChatCompletionClient(model='gpt-4o-mini')"
   ]
  },
  {
   "cell_type": "markdown",
   "id": "3f236ee5",
   "metadata": {},
   "source": [
    "### Single Agent vs MultiAgent"
   ]
  },
  {
   "cell_type": "code",
   "execution_count": null,
   "id": "e23b1a69",
   "metadata": {},
   "outputs": [
    {
     "name": "stdout",
     "output_type": "stream",
     "text": [
      "Once in the bustling kingdom of Eldoria, a valiant knight named Sir Cedric roamed the fields, clad in shining armor. His noble deeds were many, but none could bring him joy in solitude. One day, while traversing the edge of the Whispering Woods, a rustle in the underbrush caught his attention.\n",
      "\n",
      "From the thicket, a scruffy dog emerged, limping and trembling. Its coat was matted, and its eyes, filled with fear, begged for comfort. Sir Cedric knelt, extending a hand. “Fear not, little friend. I won’t harm you.” The dog sniffed cautiously before inching closer, drawn by the knight’s gentle voice.\n",
      "\n",
      "From that day on, the dog, whom Cedric named Bramble, followed him everywhere. They became inseparable companions, sharing adventures and laughter, with Bramble’s playful antics brightening the knight’s heart. Together, they faced dragons and fierce bandits, Bramble proving to be both brave and clever.\n",
      "\n",
      "One fateful day, news swept through the kingdom; the dark sorceress, Malvina, threatened to unleash a terrible curse. Determined, Sir Cedric donned his armor and prepared for battle. As they approached her lair, Cedric felt an unfamiliar dread creeping into his heart. Sensing his unease, Bramble positioned himself at Sir Cedric’s feet, his loyal presence a beacon of courage.\n",
      "\n",
      "With Bramble by his side, they entered the sorceress’s domain. She unleashed magical storms, but with each spell cast, Bramble darted bravely, finding ways to distract her. Cedric’s heart swelled with gratitude and newfound resolve. Together, they outwitted Malvina, breaking the curse that had threatened their realm.\n",
      "\n",
      "Victorious, Cedric knelt and embraced Bramble. No longer just a knight, he was a hero with a faithful friend. Eldoria thrived, not because of a single knight, but because of the bond forged through loyalty and love.\n"
     ]
    }
   ],
   "source": [
    "single_agent = AssistantAgent(\n",
    "    name='singlestoryagent',\n",
    "    model_client=openai_model_client,\n",
    "    system_message='You are a creative writer. Generate a short story about the plot user provides you.'\n",
    ")\n",
    "\n",
    "async def test_single_agent():\n",
    "    \n",
    "    task = TextMessage(content='Write a short story about a knight and a dog. Keep it in 300 words', source='user')\n",
    "    result = await single_agent.run(task=task)\n",
    "    \n",
    "    print(result.messages[-1].content)\n",
    "    \n",
    "await test_single_agent()"
   ]
  },
  {
   "cell_type": "markdown",
   "id": "1e99ed0f",
   "metadata": {},
   "source": [
    "### Agents Team using RoundRobinGroupChat()"
   ]
  },
  {
   "cell_type": "code",
   "execution_count": 8,
   "id": "f319a1b5",
   "metadata": {},
   "outputs": [],
   "source": [
    "from autogen_agentchat.teams import RoundRobinGroupChat\n",
    "from autogen_agentchat.ui import Console\n",
    "\n",
    "plot_agent = AssistantAgent(\n",
    "    name='plot_agent',\n",
    "    model_client=openai_model_client,\n",
    "    system_message='You are a creative writer. You create engaging plots for stories. Focus on creating the plot for the story based on the user prompt. You will only create the plot of the story'\n",
    ")\n",
    "\n",
    "character_agent = AssistantAgent(\n",
    "    name= 'character_agent',\n",
    "    model_client=openai_model_client,\n",
    "    system_message='You are a creative writer. You develop each character of the stories in detals, incluing their motivation and background based on the plot provided by \"plot_agent\". Make sure you only develop the characters and their background and motivation.'\n",
    ")\n",
    "\n",
    "editing_agent = AssistantAgent(\n",
    "    name = 'editing_agent',\n",
    "    model_client=openai_model_client,\n",
    "    system_message='You are a creative writer. You will write the complete story based on the plot provided by \"plot_agent\" and characters and their backgroud provided by \"character_agent\"'\n",
    ")"
   ]
  },
  {
   "cell_type": "code",
   "execution_count": 9,
   "id": "dae4946f",
   "metadata": {},
   "outputs": [
    {
     "name": "stdout",
     "output_type": "stream",
     "text": [
      "user : Write a short story about a knight and a dog. Keep it in 300 words\n",
      "\n",
      "\n",
      "\n",
      "plot_agent : In a realm where shadows stretched long and days of glory seemed but a tale of old, Sir Cedric, a knight of renowned honor, found himself cast out from his kingdom after a betrayal unraveled his loyalty. With heavy armor and a heart burdened by the weight of his lost home, he wandered the outskirts of the enchanted Eldergrove Forest.\n",
      "\n",
      "As twilight draped its veil over the land, Cedric spotted a flickering light through the trees. Following it with cautious steps, he stumbled upon a remote village plagued by a fierce wolf that had tormented its inhabitants. The villagers eyed him with skepticism, their desperation palpable. In that moment, he felt a tug at his chainmail – a scruffy dog with matted fur stood at his side, wide-eyed and hopeful.\n",
      "\n",
      "Cedric named the dog Bristle, a fitting title for its bristly coat and fierce spirit. Together, they devised a plan to confront the rogue wolf that had terrorized the village. Cedric donned his armor, with Bristle by his feet, and they set out into the heart of the forest. \n",
      "\n",
      "In the eerie dark, they faced the wolf, a colossal beast whose eyes glittered like shards of ice. Cedric brandished his sword, yet it was Bristle who, with a fierce growl and a swift dart towards the beast, distracted it just long enough for Cedric to deliver a deft blow. The wolf fell, and the village erupted with cheers.\n",
      "\n",
      "In winning the villagers’ adoration, Cedric found purpose and forgiveness. The kingdom hadn’t lost a knight; it had gained a protector. With Bristle forever at his side, they vowed to restore honor not just in battle, but in acts of camaraderie, ever reminding the world that even a fallen knight could earn his place in the hearts of the faithful.\n",
      "\n",
      "\n",
      "\n",
      "character_agent : **Character Development:**\n",
      "\n",
      "**Sir Cedric:**\n",
      "Cedric is a knight of noble lineage, once celebrated for his unwavering loyalty and bravery in the face of danger. Born into a family that served the crown for generations, he grew up with tales of valor and chivalry, instilling in him a sense of duty and honor. His early life was filled with rigorous training, not just in combat but in the moral code that knights deemed sacred. However, beneath his polished armor lies the scar of betrayal; a trusted comrade deceived him, leading to his false accusation of treason. Cast out by those he once vowed to protect, Cedric's heart is heavy with shame and loss. His journey through Eldergrove is not just a quest for redemption, but a path toward self-discovery. As he navigates the challenges of his new life, Cedric learns to embrace humility and compassion, realizing that bravery is not solely defined by the sword.\n",
      "\n",
      "**Bristle:**\n",
      "Bristle, the scruffy dog who became Cedric's steadfast companion, embodies loyalty in its purest form. Abandoned in the woods, Bristle had to rely on his instincts to survive, scavenging for food and steeling himself against threats. His tough exterior—matted fur and a wiry frame—hides a heart that longs for connection. When he encounters Cedric, Bristle senses a kindred spirit; both have known the pain of loss and longing for acceptance. With boundless energy and an intuitive sense of danger, Bristle not only provides companionship but also becomes Cedric's catalyst for courage. His playful disposition acts as a balm for Cedric’s wounded heart, reminding him of the joys of friendship. Bristle's motivation to protect Cedric and the villagers stems from his intrinsic desire to belong and be loved, creating a bond that's stronger than any forged in battle.\n",
      "\n",
      "Together, Cedric and Bristle are an unlikely duo: a fallen knight seeking redemption and a stray dog craving purpose, both finding solace in their shared journey toward honor and belonging.\n",
      "\n",
      "\n",
      "\n",
      "editing_agent : In a realm where shadows stretched long and tales of glory faded like morning mist, Sir Cedric wandered the outskirts of the enchanted Eldergrove Forest, cast out from his kingdom for a betrayal he never deserved. Once a knight of noble lineage, he now bore the weight of lost honor and heavy armor, each step a reminder of the shame he carried.\n",
      "\n",
      "As twilight embraced the land, Cedric spotted a flickering light through the trees. Curiosity piqued, he cautiously followed it until he stumbled upon a village, visibly fraught with despair. The villagers eyed him with suspicion, their hearts troubled by the menace of a rogue wolf that haunted their nights. Shouldering this burden felt impossible, yet when a scruffy dog with a bristly coat and wide, hopeful eyes tugged at his chainmail, Cedric felt a spark ignite within him.\n",
      "\n",
      "He named the dog Bristle, a reflection of both its appearance and unwavering spirit. As Bristle's tail wagged fervently, a shared understanding blossomed between them—both had lost their homes and longed for acceptance. With Bristle at his side, Cedric felt a glimmer of purpose; perhaps here was a chance to reclaim his sense of honor.\n",
      "\n",
      "They set off into the dark heart of the forest, ready to confront the fearsome wolf. Cedric wielded his sword, but it was Bristle who, with a fierce growl and a sudden dart, distracted the beast just long enough for Cedric to strike. In one deft blow, they vanquished the wolf, and the cheers of the villagers rang like a sweet melody through the night.\n",
      "\n",
      "Embraced by their newfound adoration, Cedric realized that he had not lost everything. With Bristle ever loyal by his side, he understood that redemption was a path not marked only by valor in battle, but also by the bonds of camaraderie. Together, they vowed to protect this village and heal their own wounded hearts, a fallen knight and his scruffy companion, rewriting their fates in the tapestry of honor and loyalty.\n",
      "\n",
      "\n",
      "\n"
     ]
    }
   ],
   "source": [
    "## agent team\n",
    "agent_team = RoundRobinGroupChat(\n",
    "    participants=[plot_agent,character_agent,editing_agent],\n",
    "    max_turns=3\n",
    ")\n",
    "\n",
    "async def test_team_output():\n",
    "    \n",
    "    task = TextMessage(content='Write a short story about a knight and a dog. Keep it in 300 words', source='user')\n",
    "    result = await agent_team.run(task=task)\n",
    "    \n",
    "    for each_message in result.messages:\n",
    "        print(f'{each_message.source} : {each_message.content}')\n",
    "        print('\\n\\n')\n",
    "        \n",
    "await test_team_output()"
   ]
  },
  {
   "cell_type": "code",
   "execution_count": null,
   "id": "bc66f029",
   "metadata": {},
   "outputs": [],
   "source": []
  }
 ],
 "metadata": {
  "kernelspec": {
   "display_name": "Python 3",
   "language": "python",
   "name": "python3"
  },
  "language_info": {
   "codemirror_mode": {
    "name": "ipython",
    "version": 3
   },
   "file_extension": ".py",
   "mimetype": "text/x-python",
   "name": "python",
   "nbconvert_exporter": "python",
   "pygments_lexer": "ipython3",
   "version": "3.12.11"
  }
 },
 "nbformat": 4,
 "nbformat_minor": 5
}
