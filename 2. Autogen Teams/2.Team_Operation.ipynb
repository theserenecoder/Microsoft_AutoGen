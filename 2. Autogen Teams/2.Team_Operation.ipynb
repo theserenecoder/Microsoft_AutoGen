{
 "cells": [
  {
   "cell_type": "markdown",
   "id": "7dec7c66",
   "metadata": {},
   "source": [
    "# Team Operations: Reset, Stop, Resume and Abort"
   ]
  },
  {
   "cell_type": "code",
   "execution_count": 5,
   "id": "19eb3284",
   "metadata": {},
   "outputs": [],
   "source": [
    "import asyncio\n",
    "from autogen_agentchat.agents import AssistantAgent\n",
    "from autogen_ext.models.openai import OpenAIChatCompletionClient\n",
    "from autogen_core.models import UserMessage\n",
    "from dotenv import load_dotenv\n",
    "load_dotenv()\n",
    "\n",
    "model_client = OpenAIChatCompletionClient(model='gpt-4o-mini')"
   ]
  },
  {
   "cell_type": "code",
   "execution_count": 7,
   "id": "b44541b5",
   "metadata": {},
   "outputs": [
    {
     "data": {
      "text/plain": [
       "CreateResult(finish_reason='stop', content=\"Hello! I'm just a program, but I'm here and ready to help you. How can I assist you today?\", usage=RequestUsage(prompt_tokens=12, completion_tokens=23), cached=False, logprobs=None, thought=None)"
      ]
     },
     "execution_count": 7,
     "metadata": {},
     "output_type": "execute_result"
    }
   ],
   "source": [
    "await model_client.create([UserMessage(content='Hi How are you', source='user')])"
   ]
  },
  {
   "cell_type": "code",
   "execution_count": 16,
   "id": "fd020ffc",
   "metadata": {},
   "outputs": [],
   "source": [
    "add_1_agent_first = AssistantAgent(\n",
    "    name = 'add_1_agent_first',\n",
    "    model_client=model_client,\n",
    "    system_message='Add 1 to the number which is given to you as an input and give out result. Start with 0 if othing is provided'\n",
    ")\n",
    "\n",
    "add_1_agent_second = AssistantAgent(\n",
    "    name = 'add_1_agent_second',\n",
    "    model_client=model_client,\n",
    "    system_message='Add 1 to the number provided and pass the result to the next agent'\n",
    ")\n",
    "\n",
    "add_1_agent_third = AssistantAgent(\n",
    "    name = 'add_1_agent_third',\n",
    "    model_client=model_client,\n",
    "    system_message='Add 1 to the number provided and pass result to the next agent'\n",
    ")"
   ]
  },
  {
   "cell_type": "code",
   "execution_count": 17,
   "id": "921d6de3",
   "metadata": {},
   "outputs": [],
   "source": [
    "from autogen_agentchat.teams import RoundRobinGroupChat\n",
    "\n",
    "team = RoundRobinGroupChat(\n",
    "    participants=[add_1_agent_first, add_1_agent_second, add_1_agent_third],\n",
    "    max_turns=3\n",
    ")"
   ]
  },
  {
   "cell_type": "code",
   "execution_count": 18,
   "id": "c8ea8014",
   "metadata": {},
   "outputs": [
    {
     "name": "stdout",
     "output_type": "stream",
     "text": [
      "---------- TextMessage (user) ----------\n",
      "First number is 0\n",
      "---------- TextMessage (add_1_agent_first) ----------\n",
      "1\n",
      "---------- TextMessage (add_1_agent_second) ----------\n",
      "2\n",
      "---------- TextMessage (add_1_agent_third) ----------\n",
      "3\n"
     ]
    },
    {
     "data": {
      "text/plain": [
       "TaskResult(messages=[TextMessage(id='a3a2cc69-5fc8-4c5b-b125-e00fca3d266c', source='user', models_usage=None, metadata={}, created_at=datetime.datetime(2025, 8, 8, 3, 35, 36, 827066, tzinfo=datetime.timezone.utc), content='First number is 0', type='TextMessage'), TextMessage(id='a5a40023-9c7f-4bfa-8e27-0712e5bf56e2', source='add_1_agent_first', models_usage=RequestUsage(prompt_tokens=45, completion_tokens=1), metadata={}, created_at=datetime.datetime(2025, 8, 8, 3, 35, 37, 434015, tzinfo=datetime.timezone.utc), content='1', type='TextMessage'), TextMessage(id='63cea3fa-28e6-4f6e-92d3-0c88d23dace7', source='add_1_agent_second', models_usage=RequestUsage(prompt_tokens=42, completion_tokens=1), metadata={}, created_at=datetime.datetime(2025, 8, 8, 3, 35, 37, 884029, tzinfo=datetime.timezone.utc), content='2', type='TextMessage'), TextMessage(id='ecfdc0ab-ee4c-473e-848b-4df44946d231', source='add_1_agent_third', models_usage=RequestUsage(prompt_tokens=51, completion_tokens=1), metadata={}, created_at=datetime.datetime(2025, 8, 8, 3, 35, 39, 280472, tzinfo=datetime.timezone.utc), content='3', type='TextMessage')], stop_reason='Maximum number of turns 3 reached.')"
      ]
     },
     "execution_count": 18,
     "metadata": {},
     "output_type": "execute_result"
    }
   ],
   "source": [
    "from autogen_agentchat.ui import Console\n",
    "\n",
    "await Console(team.run_stream(task = 'First number is 0'))\n"
   ]
  },
  {
   "cell_type": "markdown",
   "id": "80e902e1",
   "metadata": {},
   "source": [
    "### Resuming a Team\n",
    "\n",
    "Teams are stateful and maintains the conversation history and content after each run, unless we reset the team.\n",
    "\n",
    "We can resume a team to continue from where it left off bt calling the run() or run_stream() method without a new task."
   ]
  },
  {
   "cell_type": "code",
   "execution_count": 19,
   "id": "9181262a",
   "metadata": {},
   "outputs": [
    {
     "name": "stdout",
     "output_type": "stream",
     "text": [
      "---------- TextMessage (user) ----------\n",
      "Continue\n",
      "---------- TextMessage (add_1_agent_first) ----------\n",
      "4\n",
      "---------- TextMessage (add_1_agent_second) ----------\n",
      "5\n",
      "---------- TextMessage (add_1_agent_third) ----------\n",
      "6\n"
     ]
    },
    {
     "data": {
      "text/plain": [
       "TaskResult(messages=[TextMessage(id='d626c24a-26c8-497d-82e1-1bb34988f32b', source='user', models_usage=None, metadata={}, created_at=datetime.datetime(2025, 8, 8, 3, 39, 44, 377239, tzinfo=datetime.timezone.utc), content='Continue', type='TextMessage'), TextMessage(id='6ced021b-cb7d-4bbc-8232-50e1601d5524', source='add_1_agent_first', models_usage=RequestUsage(prompt_tokens=77, completion_tokens=1), metadata={}, created_at=datetime.datetime(2025, 8, 8, 3, 39, 44, 771103, tzinfo=datetime.timezone.utc), content='4', type='TextMessage'), TextMessage(id='450d6e56-2647-4242-93f7-109c5b35aa6b', source='add_1_agent_second', models_usage=RequestUsage(prompt_tokens=74, completion_tokens=1), metadata={}, created_at=datetime.datetime(2025, 8, 8, 3, 39, 45, 130865, tzinfo=datetime.timezone.utc), content='5', type='TextMessage'), TextMessage(id='eb46ecf1-524a-4a74-a0f2-10ded1c47b5b', source='add_1_agent_third', models_usage=RequestUsage(prompt_tokens=82, completion_tokens=1), metadata={}, created_at=datetime.datetime(2025, 8, 8, 3, 39, 45, 485541, tzinfo=datetime.timezone.utc), content='6', type='TextMessage')], stop_reason='Maximum number of turns 3 reached.')"
      ]
     },
     "execution_count": 19,
     "metadata": {},
     "output_type": "execute_result"
    }
   ],
   "source": [
    "await Console(team.run_stream(task = 'Continue'))"
   ]
  },
  {
   "cell_type": "markdown",
   "id": "05bdb35c",
   "metadata": {},
   "source": [
    "## Reset Team"
   ]
  },
  {
   "cell_type": "code",
   "execution_count": 20,
   "id": "91caf410",
   "metadata": {},
   "outputs": [],
   "source": [
    "await team.reset()"
   ]
  },
  {
   "cell_type": "code",
   "execution_count": 21,
   "id": "8d1230e6",
   "metadata": {},
   "outputs": [
    {
     "name": "stdout",
     "output_type": "stream",
     "text": [
      "---------- TextMessage (add_1_agent_first) ----------\n",
      "0 + 1 = 1\n",
      "---------- TextMessage (add_1_agent_second) ----------\n",
      "1\n",
      "---------- TextMessage (add_1_agent_third) ----------\n",
      "2\n"
     ]
    },
    {
     "data": {
      "text/plain": [
       "TaskResult(messages=[TextMessage(id='53cfe20a-cc17-433e-ba08-4bfb3a4151ea', source='add_1_agent_first', models_usage=RequestUsage(prompt_tokens=35, completion_tokens=7), metadata={}, created_at=datetime.datetime(2025, 8, 8, 3, 44, 5, 56491, tzinfo=datetime.timezone.utc), content='0 + 1 = 1', type='TextMessage'), TextMessage(id='7cdc774a-29c0-46b5-b16f-9b2f47fb4b61', source='add_1_agent_second', models_usage=RequestUsage(prompt_tokens=38, completion_tokens=1), metadata={}, created_at=datetime.datetime(2025, 8, 8, 3, 44, 5, 455729, tzinfo=datetime.timezone.utc), content='1', type='TextMessage'), TextMessage(id='31bc6da4-c080-4dac-adac-53506e10f32a', source='add_1_agent_third', models_usage=RequestUsage(prompt_tokens=47, completion_tokens=1), metadata={}, created_at=datetime.datetime(2025, 8, 8, 3, 44, 5, 859163, tzinfo=datetime.timezone.utc), content='2', type='TextMessage')], stop_reason='Maximum number of turns 3 reached.')"
      ]
     },
     "execution_count": 21,
     "metadata": {},
     "output_type": "execute_result"
    }
   ],
   "source": [
    "await Console(team.run_stream())"
   ]
  },
  {
   "cell_type": "code",
   "execution_count": null,
   "id": "9ef38ac6",
   "metadata": {},
   "outputs": [],
   "source": []
  }
 ],
 "metadata": {
  "kernelspec": {
   "display_name": "Python 3",
   "language": "python",
   "name": "python3"
  },
  "language_info": {
   "codemirror_mode": {
    "name": "ipython",
    "version": 3
   },
   "file_extension": ".py",
   "mimetype": "text/x-python",
   "name": "python",
   "nbconvert_exporter": "python",
   "pygments_lexer": "ipython3",
   "version": "3.12.11"
  }
 },
 "nbformat": 4,
 "nbformat_minor": 5
}
