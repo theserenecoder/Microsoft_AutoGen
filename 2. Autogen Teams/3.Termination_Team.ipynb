{
 "cells": [
  {
   "cell_type": "markdown",
   "id": "117b8f60",
   "metadata": {},
   "source": [
    "## Termination in Microsoft Autogen\n",
    "\n",
    "We have used team to do some work, say write a story or accomplish some task. We want them to stop once the task has been completed or if they have run certain number of iterations, otherwise they will keep on going. Therefore autogen has provided us multiple way in which we can Stop or Terminate a teams task.\n",
    "\n",
    "1. **MaxMessageTermination** : Stop after a specified number of messages have been produced including both agent and task messages.\n",
    "2. **TextMentionTermination** : Stop when specific text or string is mentioned in a message (e.g, \"TERMINATE\").\n",
    "3. **TokenUsageTermination** : Stops when certain number of prompt or completion tokens are used.\n",
    "4. **TimeoutTermination** : Stops after a specified duration in seconds.\n",
    "5. **HandoffTermination** : Stops when a handoff to a specific target is requested.\n",
    "6. **SourcematchTermination** : Stops after a specific agent responds.\n",
    "7. **ExternalTermination** : Enables programmatic contrl of termination from outside the run.\n"
   ]
  },
  {
   "cell_type": "code",
   "execution_count": 3,
   "id": "db1ca2bc",
   "metadata": {},
   "outputs": [],
   "source": [
    "import asyncio\n",
    "from autogen_agentchat.agents import AssistantAgent\n",
    "from autogen_ext.models.openai import OpenAIChatCompletionClient\n",
    "from autogen_core.models import UserMessage\n",
    "from dotenv import load_dotenv\n",
    "load_dotenv()\n",
    "\n",
    "model_client = OpenAIChatCompletionClient(model='gpt-4o-mini')"
   ]
  },
  {
   "cell_type": "code",
   "execution_count": 4,
   "id": "af22539d",
   "metadata": {},
   "outputs": [],
   "source": [
    "add_1_agent_first = AssistantAgent(\n",
    "    name = 'add_1_agent_first',\n",
    "    model_client=model_client,\n",
    "    system_message='Add 1 to the number which is given to you as an input and give out result. Start with 0 if othing is provided'\n",
    ")\n",
    "\n",
    "add_1_agent_second = AssistantAgent(\n",
    "    name = 'add_1_agent_second',\n",
    "    model_client=model_client,\n",
    "    system_message='Add 1 to the number provided and pass the result to the next agent'\n",
    ")\n",
    "\n",
    "add_1_agent_third = AssistantAgent(\n",
    "    name = 'add_1_agent_third',\n",
    "    model_client=model_client,\n",
    "    system_message='Add 1 to the number provided and pass result to the next agent'\n",
    ")"
   ]
  },
  {
   "cell_type": "markdown",
   "id": "b2b969e8",
   "metadata": {},
   "source": [
    "## MaxMessageTermination()\n",
    "\n",
    "It by defaults stops after certain number of iterations. By default it includes user message as well."
   ]
  },
  {
   "cell_type": "code",
   "execution_count": null,
   "id": "ec3afbe8",
   "metadata": {},
   "outputs": [],
   "source": [
    "from autogen_agentchat.teams import RoundRobinGroupChat\n",
    "from autogen_agentchat.conditions import MaxMessageTermination\n",
    "\n",
    "max_message_termination = MaxMessageTermination(5)\n",
    "\n",
    "team = RoundRobinGroupChat(\n",
    "    participants=[add_1_agent_first, add_1_agent_second, add_1_agent_third],\n",
    "    termination_condition=max_message_termination\n",
    ")"
   ]
  },
  {
   "cell_type": "code",
   "execution_count": 8,
   "id": "264c015f",
   "metadata": {},
   "outputs": [
    {
     "name": "stdout",
     "output_type": "stream",
     "text": [
      "---------- TextMessage (user) ----------\n",
      "Start from 0\n",
      "---------- TextMessage (add_1_agent_second) ----------\n",
      "1\n",
      "---------- TextMessage (add_1_agent_third) ----------\n",
      "2\n",
      "---------- TextMessage (add_1_agent_first) ----------\n",
      "3\n",
      "---------- TextMessage (add_1_agent_second) ----------\n",
      "4\n"
     ]
    },
    {
     "data": {
      "text/plain": [
       "TaskResult(messages=[TextMessage(id='458e946a-a2f9-4d0b-b31f-06e160271a46', source='user', models_usage=None, metadata={}, created_at=datetime.datetime(2025, 8, 8, 4, 5, 30, 701670, tzinfo=datetime.timezone.utc), content='Start from 0', type='TextMessage'), TextMessage(id='6edff323-6b4d-4ef8-9787-d64f551b3e87', source='add_1_agent_second', models_usage=RequestUsage(prompt_tokens=100, completion_tokens=1), metadata={}, created_at=datetime.datetime(2025, 8, 8, 4, 5, 31, 167347, tzinfo=datetime.timezone.utc), content='1', type='TextMessage'), TextMessage(id='49571c89-186e-401f-b0b8-b315e45a3316', source='add_1_agent_third', models_usage=RequestUsage(prompt_tokens=118, completion_tokens=1), metadata={}, created_at=datetime.datetime(2025, 8, 8, 4, 5, 31, 574795, tzinfo=datetime.timezone.utc), content='2', type='TextMessage'), TextMessage(id='331e69c5-05a3-4f95-a8c7-00fd8ed566a0', source='add_1_agent_first', models_usage=RequestUsage(prompt_tokens=145, completion_tokens=1), metadata={}, created_at=datetime.datetime(2025, 8, 8, 4, 5, 31, 920968, tzinfo=datetime.timezone.utc), content='3', type='TextMessage'), TextMessage(id='eef187ce-e8a4-4fd6-960a-4d2c931d1214', source='add_1_agent_second', models_usage=RequestUsage(prompt_tokens=126, completion_tokens=1), metadata={}, created_at=datetime.datetime(2025, 8, 8, 4, 5, 32, 789680, tzinfo=datetime.timezone.utc), content='4', type='TextMessage')], stop_reason='Maximum number of messages 5 reached, current message count: 5')"
      ]
     },
     "execution_count": 8,
     "metadata": {},
     "output_type": "execute_result"
    }
   ],
   "source": [
    "from autogen_agentchat.ui import Console\n",
    "\n",
    "await Console(team.run_stream(task = 'Start from 0'))"
   ]
  },
  {
   "cell_type": "markdown",
   "id": "39d69244",
   "metadata": {},
   "source": [
    "## TextMessageTermination"
   ]
  },
  {
   "cell_type": "code",
   "execution_count": 9,
   "id": "0558e38d",
   "metadata": {},
   "outputs": [],
   "source": [
    "agent1 = AssistantAgent(\n",
    "    name='story_writer',\n",
    "    model_client=model_client,\n",
    "    system_message='Give the story about a brave knight, keep it short upto 40 words'\n",
    ")\n",
    "\n",
    "agent2 = AssistantAgent(\n",
    "    name='story_critic',\n",
    "    model_client=model_client,\n",
    "    system_message=\"Coninue the story and citic it with feedback. Keep it short and no more than 40 words. If it feels complete, say 'THE END'\"\n",
    ")"
   ]
  },
  {
   "cell_type": "code",
   "execution_count": 10,
   "id": "c3398697",
   "metadata": {},
   "outputs": [
    {
     "name": "stdout",
     "output_type": "stream",
     "text": [
      "---------- TextMessage (user) ----------\n",
      "Write a story about brave knight\n",
      "---------- TextMessage (story_writer) ----------\n",
      "Sir Cedric, renowned for his fearlessness, faced a ferocious dragon threatening his village. Armed with only faith and a sturdy sword, he charged into battle. With a heart full of courage, he defeated the beast, securing peace and honor.\n",
      "---------- TextMessage (story_critic) ----------\n",
      "The villagers cheered as Sir Cedric returned, a hero in their eyes. Yet, he humbly reminded them that true bravery lies in protecting the weak. His legend grew, inspiring others to be courageous in their own journeys. \n",
      "\n",
      "THE END.\n"
     ]
    },
    {
     "data": {
      "text/plain": [
       "TaskResult(messages=[TextMessage(id='4dff3245-01b3-4a9a-b161-a89411f3c4a6', source='user', models_usage=None, metadata={}, created_at=datetime.datetime(2025, 8, 8, 4, 11, 3, 150193, tzinfo=datetime.timezone.utc), content='Write a story about brave knight', type='TextMessage'), TextMessage(id='df0925df-b1e7-43a7-86d0-af768af50ea1', source='story_writer', models_usage=RequestUsage(prompt_tokens=33, completion_tokens=50), metadata={}, created_at=datetime.datetime(2025, 8, 8, 4, 11, 4, 397748, tzinfo=datetime.timezone.utc), content='Sir Cedric, renowned for his fearlessness, faced a ferocious dragon threatening his village. Armed with only faith and a sturdy sword, he charged into battle. With a heart full of courage, he defeated the beast, securing peace and honor.', type='TextMessage'), TextMessage(id='c8c84ee2-8128-4b5f-96eb-00257cc11782', source='story_critic', models_usage=RequestUsage(prompt_tokens=107, completion_tokens=50), metadata={}, created_at=datetime.datetime(2025, 8, 8, 4, 11, 6, 23557, tzinfo=datetime.timezone.utc), content='The villagers cheered as Sir Cedric returned, a hero in their eyes. Yet, he humbly reminded them that true bravery lies in protecting the weak. His legend grew, inspiring others to be courageous in their own journeys. \\n\\nTHE END.', type='TextMessage')], stop_reason=\"Text 'THE END' mentioned\")"
      ]
     },
     "execution_count": 10,
     "metadata": {},
     "output_type": "execute_result"
    }
   ],
   "source": [
    "from autogen_agentchat.conditions import TextMentionTermination\n",
    "from autogen_agentchat.messages import TextMessage\n",
    "\n",
    "text_message_termination = TextMentionTermination(\"THE END\")\n",
    "\n",
    "team_with_texttermination = RoundRobinGroupChat(\n",
    "    participants=[agent1, agent2],\n",
    "    termination_condition=text_message_termination\n",
    ")\n",
    "\n",
    "await Console(team_with_texttermination.run_stream(task='Write a story about brave knight'))\n"
   ]
  },
  {
   "cell_type": "markdown",
   "id": "a38582b3",
   "metadata": {},
   "source": [
    "## Combining Termination\n",
    "\n",
    "We can combine our multiple termination condition with 'AND', 'OR'. If we have combined with OR then team will terminate when any of the condition fullfills."
   ]
  },
  {
   "cell_type": "code",
   "execution_count": 11,
   "id": "c7a6f065",
   "metadata": {},
   "outputs": [],
   "source": [
    "combined_termination = MaxMessageTermination(3) | TextMentionTermination('THE END')"
   ]
  },
  {
   "cell_type": "code",
   "execution_count": 12,
   "id": "d951294a",
   "metadata": {},
   "outputs": [
    {
     "name": "stdout",
     "output_type": "stream",
     "text": [
      "---------- TextMessage (user) ----------\n",
      "Write a story about brave knight\n",
      "---------- TextMessage (story_writer) ----------\n",
      "In a kingdom shrouded in darkness, Sir Alaric, a brave knight, learned of a cursed forest where a monstrous creature stole the villagers' hopes. Armed with his gleaming sword and unwavering resolve, he ventured into the shadows. After a fierce battle, he vanquished the beast, freeing the land from despair. The villagers, grateful and filled with hope, celebrated their hero's courage, echoing his bravery for generations to come.\n",
      "---------- TextMessage (story_critic) ----------\n",
      "As the festivities unfolded, Sir Alaric shared his belief that courage was a collective strength. Encouraged by his words, the villagers vowed to protect one another, forging a new bond of unity. The knight's legacy inspired a brighter future.\n",
      "\n",
      "THE END.\n"
     ]
    },
    {
     "data": {
      "text/plain": [
       "TaskResult(messages=[TextMessage(id='5af661c1-6116-4509-a07c-5dee4be3b017', source='user', models_usage=None, metadata={}, created_at=datetime.datetime(2025, 8, 8, 4, 17, 2, 41615, tzinfo=datetime.timezone.utc), content='Write a story about brave knight', type='TextMessage'), TextMessage(id='b372eb28-9329-4ea5-a7c3-66db11b2ff40', source='story_writer', models_usage=RequestUsage(prompt_tokens=156, completion_tokens=91), metadata={}, created_at=datetime.datetime(2025, 8, 8, 4, 17, 5, 425625, tzinfo=datetime.timezone.utc), content=\"In a kingdom shrouded in darkness, Sir Alaric, a brave knight, learned of a cursed forest where a monstrous creature stole the villagers' hopes. Armed with his gleaming sword and unwavering resolve, he ventured into the shadows. After a fierce battle, he vanquished the beast, freeing the land from despair. The villagers, grateful and filled with hope, celebrated their hero's courage, echoing his bravery for generations to come.\", type='TextMessage'), TextMessage(id='9ce7e1d6-53a0-4535-8c3f-cbd725676f1b', source='story_critic', models_usage=RequestUsage(prompt_tokens=270, completion_tokens=52), metadata={}, created_at=datetime.datetime(2025, 8, 8, 4, 17, 7, 97877, tzinfo=datetime.timezone.utc), content=\"As the festivities unfolded, Sir Alaric shared his belief that courage was a collective strength. Encouraged by his words, the villagers vowed to protect one another, forging a new bond of unity. The knight's legacy inspired a brighter future.\\n\\nTHE END.\", type='TextMessage')], stop_reason=\"Text 'THE END' mentioned\")"
      ]
     },
     "execution_count": 12,
     "metadata": {},
     "output_type": "execute_result"
    }
   ],
   "source": [
    "team_with_combinedTermination = RoundRobinGroupChat(\n",
    "    participants=[agent1, agent2],\n",
    "    termination_condition=combined_termination\n",
    ")\n",
    "\n",
    "await Console(team_with_texttermination.run_stream(task='Write a story about brave knight'))"
   ]
  },
  {
   "cell_type": "markdown",
   "id": "9587a19e",
   "metadata": {},
   "source": [
    "### ExternalTermination()\n",
    "\n",
    "Enables programmatic control of termination from outside the run. This is useful for UIintegration (e.g, \"STOP\" buton in chat interface)."
   ]
  },
  {
   "cell_type": "code",
   "execution_count": 13,
   "id": "7d5b3d29",
   "metadata": {},
   "outputs": [],
   "source": [
    "from autogen_agentchat.conditions import ExternalTermination\n",
    "\n",
    "external_termination = ExternalTermination()"
   ]
  },
  {
   "cell_type": "code",
   "execution_count": 14,
   "id": "c4581dab",
   "metadata": {},
   "outputs": [
    {
     "name": "stdout",
     "output_type": "stream",
     "text": [
      "---------- TextMessage (user) ----------\n",
      "Write a story about brave knight\n",
      "---------- TextMessage (story_writer) ----------\n",
      "In a realm beset by shadows, Sir Roland, a courageous knight, vowed to protect his castle from the malevolent sorceress threatening to engulf the land in darkness. With his loyal steed and enchanted sword, he journeyed through treacherous terrains. \n",
      "\n",
      "As dusk fell, he confronted the sorceress atop a cliff, their battle fierce and relentless. Sir Roland, fueled by the cries of his people, summoned all his strength, ultimately breaking her curse with a radiant strike of his sword. \n",
      "\n",
      "Peace restored, the kingdom flourished, and Sir Roland became a legend, reminding all that true bravery shines brightest in the face of fear.\n"
     ]
    },
    {
     "data": {
      "text/plain": [
       "TaskResult(messages=[TextMessage(id='1b470aba-7d89-43e7-8588-4e36eecc850b', source='user', models_usage=None, metadata={}, created_at=datetime.datetime(2025, 8, 8, 5, 2, 47, 419185, tzinfo=datetime.timezone.utc), content='Write a story about brave knight', type='TextMessage'), TextMessage(id='f3f7939f-b1fb-42f4-b0fe-9258235dafa0', source='story_writer', models_usage=RequestUsage(prompt_tokens=262, completion_tokens=131), metadata={}, created_at=datetime.datetime(2025, 8, 8, 5, 2, 50, 762790, tzinfo=datetime.timezone.utc), content='In a realm beset by shadows, Sir Roland, a courageous knight, vowed to protect his castle from the malevolent sorceress threatening to engulf the land in darkness. With his loyal steed and enchanted sword, he journeyed through treacherous terrains. \\n\\nAs dusk fell, he confronted the sorceress atop a cliff, their battle fierce and relentless. Sir Roland, fueled by the cries of his people, summoned all his strength, ultimately breaking her curse with a radiant strike of his sword. \\n\\nPeace restored, the kingdom flourished, and Sir Roland became a legend, reminding all that true bravery shines brightest in the face of fear.', type='TextMessage')], stop_reason='External termination requested')"
      ]
     },
     "execution_count": 14,
     "metadata": {},
     "output_type": "execute_result"
    }
   ],
   "source": [
    "team_with_externaltermination = RoundRobinGroupChat(\n",
    "    participants=[agent1, agent2],\n",
    "    termination_condition=external_termination\n",
    ")\n",
    "\n",
    "run = asyncio.create_task(Console(team_with_externaltermination.run_stream(task ='Write a story about brave knight')))\n",
    "\n",
    "await asyncio.sleep(2)\n",
    "\n",
    "## terminating the team by setting the externaltermination\n",
    "external_termination.set()\n",
    "\n",
    "await run"
   ]
  },
  {
   "cell_type": "markdown",
   "id": "99e48cf2",
   "metadata": {},
   "source": [
    "#### So the team will not stop immediately instead it complete the running agent task and then will terminate."
   ]
  },
  {
   "cell_type": "code",
   "execution_count": null,
   "id": "65d3ad3e",
   "metadata": {},
   "outputs": [],
   "source": []
  }
 ],
 "metadata": {
  "kernelspec": {
   "display_name": "Python 3",
   "language": "python",
   "name": "python3"
  },
  "language_info": {
   "codemirror_mode": {
    "name": "ipython",
    "version": 3
   },
   "file_extension": ".py",
   "mimetype": "text/x-python",
   "name": "python",
   "nbconvert_exporter": "python",
   "pygments_lexer": "ipython3",
   "version": "3.12.11"
  }
 },
 "nbformat": 4,
 "nbformat_minor": 5
}
