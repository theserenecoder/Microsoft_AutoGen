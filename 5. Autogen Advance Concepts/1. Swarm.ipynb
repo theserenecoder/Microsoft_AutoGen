{
 "cells": [
  {
   "cell_type": "markdown",
   "id": "f9d918f7",
   "metadata": {},
   "source": [
    "## Swarm\n",
    "\n",
    "This concept was initially designed by OpenAI ---> Handoff Condition\n",
    "\n",
    "The Swarm implements a team in which agent can handoff task to another agent based on their capabilities.\n",
    "\n",
    "It is a group chat where agents take turn to generate a response, participant agents broadcast their response so all the agents share the same message context.\n",
    "\n",
    "In this, next agent is selected based on the most recent HandofMessage message in the context.\n",
    "\n",
    "In the `AssistantAgent` we can set the handoffs arguments to specify which agents it can handoff to. This will only work if a swarm is selected.\n",
    "\n",
    "The overall process is:\n",
    "1. Each agent can generate a HandoffMessage to indicate which agents it can hand off to.\n",
    "2. The initial agent(s) begin the task and decide locally whether to hand off and to whom.\n",
    "3. When a HandoffMessage is generated, the designated agent takes over with the same context.\n",
    "4. This process repeats until a termination condition is reached.\n",
    "\n",
    "![alt text](swarm_customer_support.svg)"
   ]
  },
  {
   "cell_type": "markdown",
   "id": "b7913773",
   "metadata": {},
   "source": [
    "## Travel Refund Teams Workflow\n",
    "1. Travel Agent initiates the conversation and try to understand the user's request.\n",
    "2. Based on the request:\n",
    "    - For generic info, it gives that and would ideally handoff to user.\n",
    "    - For refund related requests, Agent handoff to the Flight refunder.\n",
    "3. Flight refunder uses the tool **refund_flight** tool when required.\n",
    "4. If agent hands off to **user**, team execution will stop and wait for user's response.\n",
    "5. If user provides an input, it is sent back to team as a Handoff Message and **is directed to the agent that originally reuested users input**.\n",
    "6. This process will continue until Travel agent determines the task is complete and terminate the workflow."
   ]
  },
  {
   "cell_type": "code",
   "execution_count": 1,
   "id": "a662a81a",
   "metadata": {},
   "outputs": [
    {
     "data": {
      "text/plain": [
       "True"
      ]
     },
     "execution_count": 1,
     "metadata": {},
     "output_type": "execute_result"
    }
   ],
   "source": [
    "from typing import Any, Dict, List\n",
    "\n",
    "from autogen_agentchat.agents import AssistantAgent\n",
    "from autogen_agentchat.conditions import HandoffTermination, TextMentionTermination\n",
    "from autogen_agentchat.messages import HandoffMessage\n",
    "from autogen_agentchat.teams import Swarm\n",
    "from autogen_agentchat.ui import Console\n",
    "from autogen_ext.models.openai import OpenAIChatCompletionClient\n",
    "from dotenv import load_dotenv\n",
    "load_dotenv()"
   ]
  },
  {
   "cell_type": "code",
   "execution_count": 2,
   "id": "49ebae80",
   "metadata": {},
   "outputs": [],
   "source": [
    "def refund_flight(flight_PNR:str)->str:\n",
    "    return f\"Refunded flight with PNR {flight_PNR}\"\n",
    "\n",
    "model_client = OpenAIChatCompletionClient(model='gpt-4o-mini')"
   ]
  },
  {
   "cell_type": "code",
   "execution_count": 17,
   "id": "de905f28",
   "metadata": {},
   "outputs": [],
   "source": [
    "## travel agent\n",
    "\n",
    "travel_agent = AssistantAgent(\n",
    "    name='travel_agent',\n",
    "    model_client=model_client,\n",
    "    handoffs=['flights_refunder','user'],\n",
    "    system_message='''You are a travel agent.\n",
    "    The flights_refunder is in charge of refunding flights.\n",
    "    If you need information from the user, you must first send your message, then you can handoff to the user.\n",
    "    Use TERMINATE when the travel planning is complete.\n",
    "    '''\n",
    ")"
   ]
  },
  {
   "cell_type": "code",
   "execution_count": 18,
   "id": "5aa8326f",
   "metadata": {},
   "outputs": [],
   "source": [
    "## flight refunder\n",
    "\n",
    "flights_refunder = AssistantAgent(\n",
    "    name='flights_refunder',\n",
    "    model_client=model_client,\n",
    "    tools=[refund_flight],\n",
    "    handoffs=['travel_agent','user'],\n",
    "    system_message=\"\"\"You are an agent specialized in refunding flights.\n",
    "    You only need flight PNR numbers to refund a flight.\n",
    "    You have the ability to refund a flight using the refund_flight tool.\n",
    "    If you need information from the user, you must first send your message, then you can handoff to the user.\n",
    "    When the transaction is complete, handoff to the travel agent to finalize.\"\"\",\n",
    ")"
   ]
  },
  {
   "cell_type": "code",
   "execution_count": 19,
   "id": "297616fc",
   "metadata": {},
   "outputs": [],
   "source": [
    "termination = HandoffTermination(target='user') | TextMentionTermination('TERMINATE')\n",
    "team = Swarm(\n",
    "    participants=[travel_agent, flights_refunder],\n",
    "    termination_condition=termination\n",
    ")"
   ]
  },
  {
   "cell_type": "code",
   "execution_count": 20,
   "id": "6edd84ba",
   "metadata": {},
   "outputs": [],
   "source": [
    "## resetting the \n",
    "await team.reset()"
   ]
  },
  {
   "cell_type": "code",
   "execution_count": 21,
   "id": "76b6242d",
   "metadata": {},
   "outputs": [
    {
     "name": "stdout",
     "output_type": "stream",
     "text": [
      "---------- TextMessage (user) ----------\n",
      "I want refund of my flight\n",
      "---------- TextMessage (travel_agent) ----------\n",
      "I can help you with that! Could you please provide me with some information about your flight? Specifically, I'll need the flight number and the reason for the refund.\n",
      "---------- ToolCallRequestEvent (travel_agent) ----------\n",
      "[FunctionCall(id='call_3M38LIwP72YTkhLm0OENg3MI', arguments='{}', name='transfer_to_user')]\n",
      "---------- ToolCallExecutionEvent (travel_agent) ----------\n",
      "[FunctionExecutionResult(content='Transferred to user, adopting the role of user immediately.', name='transfer_to_user', call_id='call_3M38LIwP72YTkhLm0OENg3MI', is_error=False)]\n",
      "---------- HandoffMessage (travel_agent) ----------\n",
      "Transferred to user, adopting the role of user immediately.\n",
      "---------- HandoffMessage (user) ----------\n",
      "ABC1234\n",
      "---------- TextMessage (travel_agent) ----------\n",
      "Thank you for providing your flight number. Could you please let me know the reason for the refund?\n",
      "---------- ToolCallRequestEvent (travel_agent) ----------\n",
      "[FunctionCall(id='call_GcKmt0ePA4GTn0rnlh3nHoZf', arguments='{}', name='transfer_to_flights_refunder')]\n",
      "---------- ToolCallExecutionEvent (travel_agent) ----------\n",
      "[FunctionExecutionResult(content='Transferred to flights_refunder, adopting the role of flights_refunder immediately.', name='transfer_to_flights_refunder', call_id='call_GcKmt0ePA4GTn0rnlh3nHoZf', is_error=False)]\n",
      "---------- HandoffMessage (travel_agent) ----------\n",
      "Transferred to flights_refunder, adopting the role of flights_refunder immediately.\n",
      "---------- TextMessage (flights_refunder) ----------\n",
      "I only need the flight PNR number to process the refund. Since you've provided the flight number, I'll proceed to refund the flight, but I'll need to clarify: please confirm that \"ABC1234\" is the PNR number.\n",
      "---------- ToolCallRequestEvent (flights_refunder) ----------\n",
      "[FunctionCall(id='call_dKutkMq7oXrtMmSgPm0GAWB9', arguments='{\"flight_PNR\":\"ABC1234\"}', name='refund_flight')]\n",
      "---------- ToolCallExecutionEvent (flights_refunder) ----------\n",
      "[FunctionExecutionResult(content='Refunded flight with PNR ABC1234', name='refund_flight', call_id='call_dKutkMq7oXrtMmSgPm0GAWB9', is_error=False)]\n",
      "---------- ToolCallSummaryMessage (flights_refunder) ----------\n",
      "Refunded flight with PNR ABC1234\n",
      "---------- ToolCallRequestEvent (flights_refunder) ----------\n",
      "[FunctionCall(id='call_BvtFab1OQ7kT3y2nVOLkKgDw', arguments='{}', name='transfer_to_travel_agent')]\n",
      "---------- ToolCallExecutionEvent (flights_refunder) ----------\n",
      "[FunctionExecutionResult(content='Transferred to travel_agent, adopting the role of travel_agent immediately.', name='transfer_to_travel_agent', call_id='call_BvtFab1OQ7kT3y2nVOLkKgDw', is_error=False)]\n",
      "---------- HandoffMessage (flights_refunder) ----------\n",
      "Transferred to travel_agent, adopting the role of travel_agent immediately.\n",
      "---------- TextMessage (travel_agent) ----------\n",
      "Your flight with PNR ABC1234 has been successfully refunded. If you have any other questions or need further assistance, feel free to ask! \n",
      "\n",
      "TERMINATE\n"
     ]
    }
   ],
   "source": [
    "task = 'I want refund of my flight'\n",
    "\n",
    "async def run_stream():\n",
    "    task_result = await Console(team.run_stream(task=task))\n",
    "    last_message = task_result.messages[-1]\n",
    "    \n",
    "    while isinstance(last_message, HandoffMessage) and last_message.target =='user':\n",
    "        user_message = input(\"User:\")\n",
    "        \n",
    "        task_result = await Console(\n",
    "            team.run_stream(task=HandoffMessage(source='user',target=last_message.source, content=user_message))\n",
    "        )\n",
    "        \n",
    "        last_message = task_result.messages[-1]\n",
    "    \n",
    "    \n",
    "await run_stream()"
   ]
  },
  {
   "cell_type": "code",
   "execution_count": null,
   "id": "6514901b",
   "metadata": {},
   "outputs": [],
   "source": []
  }
 ],
 "metadata": {
  "kernelspec": {
   "display_name": "Python 3",
   "language": "python",
   "name": "python3"
  },
  "language_info": {
   "codemirror_mode": {
    "name": "ipython",
    "version": 3
   },
   "file_extension": ".py",
   "mimetype": "text/x-python",
   "name": "python",
   "nbconvert_exporter": "python",
   "pygments_lexer": "ipython3",
   "version": "3.12.11"
  }
 },
 "nbformat": 4,
 "nbformat_minor": 5
}
