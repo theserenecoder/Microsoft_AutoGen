{
 "cells": [
  {
   "cell_type": "markdown",
   "id": "be3ca7d7",
   "metadata": {},
   "source": [
    "# Society of Mind"
   ]
  },
  {
   "cell_type": "markdown",
   "id": "fc3fe853",
   "metadata": {},
   "source": []
  }
 ],
 "metadata": {
  "kernelspec": {
   "display_name": "Python 3",
   "language": "python",
   "name": "python3"
  },
  "language_info": {
   "name": "python",
   "version": "3.12.11"
  }
 },
 "nbformat": 4,
 "nbformat_minor": 5
}
