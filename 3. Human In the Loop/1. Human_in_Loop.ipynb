{
 "cells": [
  {
   "cell_type": "markdown",
   "id": "fcb1d19c",
   "metadata": {},
   "source": [
    "## Human in the Loop\n",
    "\n",
    "With the help of human in the loop we as a user can be a part of the team and can provide our feedback to the team. This can be achieved by two ways:\n",
    "\n",
    "1. During the team run: using UserProxyAgent\n",
    "2. Once the team terminate: Feedback for the next iteration."
   ]
  },
  {
   "cell_type": "code",
   "execution_count": 1,
   "id": "af8efc23",
   "metadata": {},
   "outputs": [],
   "source": [
    "import asyncio\n",
    "from autogen_agentchat.agents import AssistantAgent, UserProxyAgent\n",
    "from autogen_ext.models.openai import OpenAIChatCompletionClient\n",
    "from autogen_agentchat.teams import RoundRobinGroupChat\n",
    "from autogen_agentchat.conditions import TextMentionTermination\n",
    "from dotenv import load_dotenv\n",
    "load_dotenv()\n",
    "\n",
    "model_client = OpenAIChatCompletionClient(model='gpt-4o-mini')"
   ]
  },
  {
   "cell_type": "markdown",
   "id": "f37764b9",
   "metadata": {},
   "source": [
    "### Human-in-the-loop during the Run\n",
    "\n",
    "We use `UserProxyAgent` which is a built-in agent that act as a proxy for the user to provide the feedback to the team.\n",
    "\n",
    "The diagram below explains how we can use `UserProxyAgent` in the team flow, to get the feedback from the user.\n",
    "\n",
    "![alt text](human-in-the-loop-user-proxy.svg)"
   ]
  },
  {
   "cell_type": "code",
   "execution_count": 2,
   "id": "3c65955c",
   "metadata": {},
   "outputs": [],
   "source": [
    "assistant = AssistantAgent(\n",
    "    name = 'Asssitant',\n",
    "    model_client=model_client,\n",
    "    system_message='You are a helpful assistant'\n",
    ")\n",
    "\n",
    "user_proxy = UserProxyAgent(\n",
    "    name='user',\n",
    "    description='A proxy agent that represent the user',\n",
    "    input_func=input\n",
    ")\n",
    "\n",
    "## termination condition\n",
    "text_mention_termination = TextMentionTermination('APPROVE')\n",
    "\n",
    "## team\n",
    "team = RoundRobinGroupChat(\n",
    "    participants=[assistant, user_proxy],\n",
    "    termination_condition=text_mention_termination\n",
    ")"
   ]
  },
  {
   "cell_type": "code",
   "execution_count": 3,
   "id": "56096223",
   "metadata": {},
   "outputs": [
    {
     "name": "stdout",
     "output_type": "stream",
     "text": [
      "---------- TextMessage (user) ----------\n",
      "Write a 4 line poem about life\n",
      "---------- TextMessage (Asssitant) ----------\n",
      "Life's a dance of joy and strife,  \n",
      "Whispers of dreams, the pulse of life.  \n",
      "In every tear and every smile,  \n",
      "We weave our stories, mile by mile.\n",
      "---------- TextMessage (user) ----------\n",
      "APPROVE\n"
     ]
    },
    {
     "data": {
      "text/plain": [
       "TaskResult(messages=[TextMessage(id='424ba079-2f9e-4f42-b09a-10ce619d7fe5', source='user', models_usage=None, metadata={}, created_at=datetime.datetime(2025, 8, 8, 5, 53, 3, 582371, tzinfo=datetime.timezone.utc), content='Write a 4 line poem about life', type='TextMessage'), TextMessage(id='0d9c5a7a-c51a-4fc0-885b-33ef91ccc377', source='Asssitant', models_usage=RequestUsage(prompt_tokens=25, completion_tokens=39), metadata={}, created_at=datetime.datetime(2025, 8, 8, 5, 53, 6, 227049, tzinfo=datetime.timezone.utc), content=\"Life's a dance of joy and strife,  \\nWhispers of dreams, the pulse of life.  \\nIn every tear and every smile,  \\nWe weave our stories, mile by mile.\", type='TextMessage'), UserInputRequestedEvent(id='9dd7001d-04b7-4a1c-a95e-38cbb48ab876', source='user', models_usage=None, metadata={}, created_at=datetime.datetime(2025, 8, 8, 5, 53, 6, 228553, tzinfo=datetime.timezone.utc), request_id='53021adc-9e96-47fe-bbe3-930937f0babc', content='', type='UserInputRequestedEvent'), TextMessage(id='e98a8377-838a-4f1d-a2ef-b7a3bb881c18', source='user', models_usage=None, metadata={}, created_at=datetime.datetime(2025, 8, 8, 5, 53, 15, 354556, tzinfo=datetime.timezone.utc), content='APPROVE', type='TextMessage')], stop_reason=\"Text 'APPROVE' mentioned\")"
      ]
     },
     "execution_count": 3,
     "metadata": {},
     "output_type": "execute_result"
    }
   ],
   "source": [
    "from autogen_agentchat.ui import Console\n",
    "\n",
    "await Console(team.run_stream(task='Write a 4 line poem about life'))"
   ]
  },
  {
   "cell_type": "code",
   "execution_count": 4,
   "id": "4ca9a58e",
   "metadata": {},
   "outputs": [
    {
     "name": "stdout",
     "output_type": "stream",
     "text": [
      "---------- TextMessage (user) ----------\n",
      "Write a 4 line poem about India\n",
      "---------- TextMessage (Asssitant) ----------\n",
      "From rivers' flow to mountains high,  \n",
      "Colors burst beneath the sky.  \n",
      "Cultures blend in harmony,  \n",
      "India's heart, a tapestry.\n",
      "---------- TextMessage (user) ----------\n",
      "mentione more about india heritage\n",
      "---------- TextMessage (Asssitant) ----------\n",
      "In ancient scripts and temples grand,  \n",
      "Where wisdom flourished from the land.  \n",
      "Festivals bright, traditions deep,  \n",
      "India's heritage, a treasure to keep.  \n",
      "\n",
      "With dance and song, the past embraced,  \n",
      "In every corner, history traced.  \n",
      "From Vedas’ lore to art's fine thread,  \n",
      "A vibrant legacy, where dreams are bred.\n",
      "---------- TextMessage (user) ----------\n",
      "\n",
      "---------- TextMessage (Asssitant) ----------\n",
      "It seems you may not have included a request or a question in your last message. How can I assist you further? If you'd like another poem or anything else, feel free to let me know!\n",
      "---------- TextMessage (user) ----------\n",
      "APPROVE\n"
     ]
    },
    {
     "data": {
      "text/plain": [
       "TaskResult(messages=[TextMessage(id='a0a25931-bb11-4a30-a321-9da8bf870371', source='user', models_usage=None, metadata={}, created_at=datetime.datetime(2025, 8, 8, 5, 53, 43, 405835, tzinfo=datetime.timezone.utc), content='Write a 4 line poem about India', type='TextMessage'), TextMessage(id='e304802a-1341-4944-a7d1-2954ae8b73dd', source='Asssitant', models_usage=RequestUsage(prompt_tokens=89, completion_tokens=30), metadata={}, created_at=datetime.datetime(2025, 8, 8, 5, 53, 44, 728129, tzinfo=datetime.timezone.utc), content=\"From rivers' flow to mountains high,  \\nColors burst beneath the sky.  \\nCultures blend in harmony,  \\nIndia's heart, a tapestry.\", type='TextMessage'), UserInputRequestedEvent(id='0fa12baa-c09d-42e2-a7a7-89ec446f8043', source='user', models_usage=None, metadata={}, created_at=datetime.datetime(2025, 8, 8, 5, 53, 44, 730274, tzinfo=datetime.timezone.utc), request_id='145a4bc9-5478-44ff-b8df-13602151cdaf', content='', type='UserInputRequestedEvent'), TextMessage(id='fb2b3a10-00d2-478e-a27f-1f5054fdf033', source='user', models_usage=None, metadata={}, created_at=datetime.datetime(2025, 8, 8, 5, 54, 6, 909408, tzinfo=datetime.timezone.utc), content='mentione more about india heritage', type='TextMessage'), TextMessage(id='732a3ba5-6860-4f05-a37c-163feabd480f', source='Asssitant', models_usage=RequestUsage(prompt_tokens=134, completion_tokens=74), metadata={}, created_at=datetime.datetime(2025, 8, 8, 5, 54, 8, 665529, tzinfo=datetime.timezone.utc), content=\"In ancient scripts and temples grand,  \\nWhere wisdom flourished from the land.  \\nFestivals bright, traditions deep,  \\nIndia's heritage, a treasure to keep.  \\n\\nWith dance and song, the past embraced,  \\nIn every corner, history traced.  \\nFrom Vedas’ lore to art's fine thread,  \\nA vibrant legacy, where dreams are bred.\", type='TextMessage'), UserInputRequestedEvent(id='67160f11-97f1-4fa4-8852-53a4b4b40321', source='user', models_usage=None, metadata={}, created_at=datetime.datetime(2025, 8, 8, 5, 54, 8, 667528, tzinfo=datetime.timezone.utc), request_id='0dcdffba-3401-4739-a3e8-becb9d00e9ed', content='', type='UserInputRequestedEvent'), TextMessage(id='d8024467-bdfc-49a2-97e1-bc14afcc114f', source='user', models_usage=None, metadata={}, created_at=datetime.datetime(2025, 8, 8, 5, 54, 37, 997043, tzinfo=datetime.timezone.utc), content='', type='TextMessage'), TextMessage(id='fc5871f2-ec37-4562-a503-eb067369c808', source='Asssitant', models_usage=RequestUsage(prompt_tokens=217, completion_tokens=40), metadata={}, created_at=datetime.datetime(2025, 8, 8, 5, 54, 38, 892004, tzinfo=datetime.timezone.utc), content=\"It seems you may not have included a request or a question in your last message. How can I assist you further? If you'd like another poem or anything else, feel free to let me know!\", type='TextMessage'), UserInputRequestedEvent(id='e77d4c7c-56a4-420a-941a-de5feaeea390', source='user', models_usage=None, metadata={}, created_at=datetime.datetime(2025, 8, 8, 5, 54, 38, 894018, tzinfo=datetime.timezone.utc), request_id='2619269d-0020-4928-91b4-ca2a8da44165', content='', type='UserInputRequestedEvent'), TextMessage(id='f84e66ca-3147-4a62-95c2-2e0f27947169', source='user', models_usage=None, metadata={}, created_at=datetime.datetime(2025, 8, 8, 5, 54, 49, 904303, tzinfo=datetime.timezone.utc), content='APPROVE', type='TextMessage')], stop_reason=\"Text 'APPROVE' mentioned\")"
      ]
     },
     "execution_count": 4,
     "metadata": {},
     "output_type": "execute_result"
    }
   ],
   "source": [
    "await Console(team.run_stream(task='Write a 4 line poem about India'))"
   ]
  },
  {
   "cell_type": "markdown",
   "id": "968717e2",
   "metadata": {},
   "source": [
    "#### The problem with this way is that the state of the team is unstable as it blocks the progress until the user provides a feedback or approve the result.\n",
    "\n",
    "#### Because of this blocking approach, it is recommended that we use it for short interactions.\n",
    "\n",
    "\n",
    "### Human-in-the-loop in the Next Run\n",
    "\n",
    "This approach is used in an interactive loop, where the team runs until termination and this approach is useful for persistant session with async communication between the team and the user. Everytime an execution completes, state of the team is updated and resumes from where it was left.\n",
    "\n",
    "![alt text](human-in-the-loop-termination.svg)\n",
    "\n",
    "We can use this with either:\n",
    "1. Maximum number of turns so that team always terminate after certain number of runs or\n",
    "2. Use termination conditions such as TextMentionTermination and HandoffTermination to allow the team to decide when to stop and give the control back to the user."
   ]
  },
  {
   "cell_type": "code",
   "execution_count": null,
   "id": "1129cb6b",
   "metadata": {},
   "outputs": [],
   "source": []
  }
 ],
 "metadata": {
  "kernelspec": {
   "display_name": "Python 3",
   "language": "python",
   "name": "python3"
  },
  "language_info": {
   "codemirror_mode": {
    "name": "ipython",
    "version": 3
   },
   "file_extension": ".py",
   "mimetype": "text/x-python",
   "name": "python",
   "nbconvert_exporter": "python",
   "pygments_lexer": "ipython3",
   "version": "3.12.11"
  }
 },
 "nbformat": 4,
 "nbformat_minor": 5
}
